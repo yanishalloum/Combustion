{
 "cells": [
  {
   "cell_type": "markdown",
   "metadata": {},
   "source": [
    "\n",
    "<center>Yanis HALLOUM "
   ]
  },
  {
   "cell_type": "markdown",
   "metadata": {},
   "source": [
    "## Table of Content"
   ]
  },
  {
   "cell_type": "markdown",
   "metadata": {},
   "source": [
    "\n",
    "* [Scenario I: An Angry Customer...](#scenario-i-an-angry-customer) \n",
    "    * [Part I](#Subsection-1)\n",
    "         * [Introduction](#Introduction)\n",
    "         * [Methodology](#Methodology)\n",
    "    * [Part II](#Subsection-2)\n",
    "         * [Introduction](#Introduction)\n",
    "         * [Methodology](#Methodology)\n",
    "* [Scenario II: Shaken but not (perfectly stirred)](#Part-2---Section-Title) \n",
    "    * [Part I](#Subsection-1)\n",
    "         * [Introduction](#Introduction)\n",
    "         * [Methodology](#Methodology)\n",
    "    * [Part II](#Subsection-2)\n",
    "         * [Introduction](#Introduction)\n",
    "         * [Methodology](#Methodology)"
   ]
  },
  {
   "cell_type": "markdown",
   "metadata": {},
   "source": [
    "**Basic packages required for labs**\n",
    "\n",
    "The Python kernel is initialized for Cantera, Numpy, MatplotLib and yaml with the commands below."
   ]
  },
  {
   "cell_type": "code",
   "execution_count": 1,
   "metadata": {},
   "outputs": [],
   "source": [
    "%matplotlib inline\n",
    "import cantera as ct \n",
    "import numpy as np\n",
    "import matplotlib.pyplot as plt\n",
    "import pandas as pd\n",
    "import os "
   ]
  },
  {
   "cell_type": "markdown",
   "metadata": {},
   "source": [
    "## Effect of Heavy Hydrocarbons on autoignition risks in the premixer"
   ]
  },
  {
   "cell_type": "markdown",
   "metadata": {},
   "source": [
    "#### Introduction\n",
    "\n",
    "Heavy Hydrocarbons (HHC) such as Butane and Pentane have different combustion behavior in comparison to standard natural gas. Additionally, Dry Low Emission (DLE) gas turbines are sensitive to fuel composition because of their short premixer residence times (2–20 ms). In this regard, an operator can report random autoignition events, possibly triggered by  spikes in HHC (butane, pentane) in the natural gas. This report will compute ignition delays for different fuel mixtures under turbine conditions (P = 40 bar, T_preheat = 890 K, φ = 0.625) and evaluate the risk of autoignition in the premixer.\n"
   ]
  },
  {
   "cell_type": "markdown",
   "metadata": {},
   "source": [
    "#### Methodology\n",
    "\n",
    "The goal of this study is to analyze the combustion behavior and ignition characteristics of a **Dry Low Emissions (DLE)** gas turbine under varying natural gas compositions. The analysis focuses on identifying days with **Butane** and **Pentane spikes**, which can increase autoignition risk, comptuting **Ignition Delays**, **Lower Heating Value (LHV)** and **Air–Fuel Ratio (AFR)** for daily gas mixture.\n",
    "\n",
    "**Turbine operating conditions:**\n",
    "\n",
    "| Parameter | Symbol | Value | Unit |\n",
    "|------------|---------|--------|------|\n",
    "| Combustion pressure | $P$ | 40 | bar |\n",
    "| Preheat temperature | $T_\\text{in}$ | 890 | K |\n",
    "| Power output | $\\text{P}_\\text{out}$ | 60 | MW |\n",
    "| Thermal efficiency | $\\eta$ | 0.42 | – |\n",
    "| Excess air factor | $\\lambda$ | 2.0 | – |\n",
    "\n",
    "**Fuel species considered:**\n",
    "\n",
    "$\\text{CH}_4, \\text{C}_2\\text{H}_6, \\text{C}_3\\text{H}_8, \\text{C}_4\\text{H}_{10}, \\text{C}_5\\text{H}_{12}$\n",
    "\n",
    "---\n",
    "\n",
    "**Ignition delays** were computed using the `nuig_3005.yaml` as it includes C1–C5 mechanism. Fuel compositions for each day were converted from volume percent to mole fraction. The autoignition criteria was arbitrarily defined as a temperature rise **ΔT = 400 K** in a constant-pressure ideal gas reactor. The calculated ignition delays were compared to the premixer residence time distribution (2–20 ms) to evaluate autoignition risk. We define **φ = 0.625** because for DLEs, φ is between 0.50 and 0.75 [c.f  \"Prediction of Dry-Low Emission Gas Turbine Operating Range from Emission Concentration Using Semi-Supervised Learning\" by Mochammad Faqih].\n",
    "\n",
    "---\n",
    "\n",
    "The **mixture LHV** is the mass-fraction-weighted average of the component LHVs:\n",
    "\n",
    "$$\n",
    "LHV_\\text{mix} = \\sum_i Y_i \\, LHV_i\n",
    "$$\n",
    "\n",
    "where each **mass fraction** $Y_i$ is computed from its mole fraction $x_i$ and molecular weight $M_i$:\n",
    "\n",
    "$$\n",
    "Y_i = \\frac{x_i M_i}{\\sum_j x_j M_j}\n",
    "$$\n",
    "\n",
    "The resulting $LHV_\\text{mix}$ is expressed in **J/kg**.\n",
    "\n",
    "---\n",
    "\n",
    "The **stoichiometric Air-Fuel Ratio** will be computed using the following equations: \n",
    "\n",
    "For a hydrocarbon with the general formula $C_xH_y$, the complete combustion reaction is:\n",
    "\n",
    "$$\n",
    "C_xH_y + \\left(x + \\frac{y}{4}\\right) O_2 \\rightarrow x CO_2 + \\frac{y}{2} H_2O\n",
    "$$\n",
    "\n",
    "The **moles of O₂ required** per mole of fuel are:\n",
    "\n",
    "$$\n",
    "n_{O_2,i} = x + \\frac{y}{4}\n",
    "$$\n",
    "\n",
    "Since air contains 3.76 moles of N₂ per mole of O₂, the **mass of air required** for 1 mole of fuel *i* is:\n",
    "\n",
    "$$\n",
    "m_\\text{air,i} = 4.76 \\, n_{O_2,i} \\, M_\\text{air}\n",
    "$$\n",
    "\n",
    "with $M_\\text{air} = 28.97 \\times 10^{-3} \\, \\text{kg/mol}$.\n",
    "\n",
    "The **stoichiometric air–fuel ratio** for the mixture (in kg air/kg fuel) is then:\n",
    "\n",
    "$$\n",
    "AFR_\\text{stoich} = \\frac{\\sum_i x_i \\, m_\\text{air,i}}{\\sum_i x_i \\, M_i}\n",
    "$$\n",
    "\n",
    "---\n",
    "\n",
    "The **fuel mass flow rate** required for the given power output is:\n",
    "\n",
    "$$\n",
    "\\dot{m}_\\text{fuel} = \\frac{Power}{\\eta \\cdot LHV_\\text{mix}}\n",
    "$$\n",
    "\n",
    "The corresponding **air mass flow rate** at excess air factor $\\lambda$ is:\n",
    "\n",
    "$$\n",
    "\\dot{m}_\\text{air} = AFR_\\text{stoich} \\cdot \\dot{m}_\\text{fuel} \\cdot \\lambda\n",
    "$$"
   ]
  },
  {
   "cell_type": "markdown",
   "metadata": {},
   "source": [
    "**Simulate the DLE turbine and compute the ignition delays for every daily composition**:"
   ]
  },
  {
   "cell_type": "code",
   "execution_count": 10,
   "metadata": {},
   "outputs": [],
   "source": [
    "# Gas turbine and simulation paramaters\n",
    "\n",
    "P_bar = 40.0                   # Bar\n",
    "T_preheat = 890.0              # K\n",
    "phi = 0.625                    \n",
    "mechanism = \"nuig_3005.yaml\"   # C1-C5 mechanism\n",
    "res_time_range_ms = (2, 20)    # Turbine residence time range [ms]\n",
    "max_sim_time = 0.1             # Simulation time [s]   "
   ]
  },
  {
   "cell_type": "code",
   "execution_count": 11,
   "metadata": {},
   "outputs": [],
   "source": [
    "# Read fuel composition file\n",
    "\n",
    "fuel_data = pd.read_csv(\"fuel_composition.csv\")\n",
    "\n",
    "fuel_columns = fuel_data.columns[1:]\n",
    "\n",
    "# Mole fraction conversion\n",
    "for c in fuel_columns:\n",
    "    fuel_data[c] = fuel_data[c] / 100.0"
   ]
  },
  {
   "cell_type": "code",
   "execution_count": 12,
   "metadata": {},
   "outputs": [
    {
     "name": "stdout",
     "output_type": "stream",
     "text": [
      "Fuel composition spikes\n",
      "\n",
      "Butane spikes : [np.int64(5), np.int64(20), np.int64(30)]\n",
      "\n",
      "\n",
      "Pentane spikes : [np.int64(10), np.int64(15), np.int64(25)]\n",
      "\n",
      "\n",
      "Natural Gas days : [np.int64(1), np.int64(2), np.int64(3), np.int64(4), np.int64(6), np.int64(7), np.int64(8), np.int64(9), np.int64(11), np.int64(12), np.int64(13), np.int64(14), np.int64(16), np.int64(17), np.int64(18), np.int64(19), np.int64(21), np.int64(22), np.int64(23), np.int64(24), np.int64(26), np.int64(27), np.int64(28), np.int64(29)]\n",
      "\n"
     ]
    }
   ],
   "source": [
    "# Spike detection\n",
    "\n",
    "mean_butane = fuel_data[\"Butane\"].mean()\n",
    "mean_pentane = fuel_data[\"Pentane\"].mean()\n",
    "\n",
    "threshold_butane = mean_butane   # spike if > mean\n",
    "threshold_pentane = mean_pentane \n",
    "\n",
    "fuel_data[\"Butane_spike\"] = fuel_data[\"Butane\"] > threshold_butane\n",
    "fuel_data[\"Pentane_spike\"] = fuel_data[\"Pentane\"] > threshold_pentane\n",
    "\n",
    "butane_days = fuel_data[fuel_data[\"Butane_spike\"]]\n",
    "pentane_days = fuel_data[fuel_data[\"Pentane_spike\"]]\n",
    "natural_days = fuel_data[~(fuel_data[\"Butane_spike\"] | fuel_data[\"Pentane_spike\"])]\n",
    "\n",
    "# We will only compute the ignition delays for one day of each fuel composition as they will return the same result\n",
    "first_butane_day = fuel_data[fuel_data[\"Butane_spike\"]].iloc[0] if any(fuel_data[\"Butane_spike\"]) else None\n",
    "first_pentane_day = fuel_data[fuel_data[\"Pentane_spike\"]].iloc[0] if any(fuel_data[\"Pentane_spike\"]) else None\n",
    "first_natural_day = fuel_data[~(fuel_data[\"Butane_spike\"] | fuel_data[\"Pentane_spike\"])].iloc[0]\n",
    "\n",
    "print(\"Fuel composition spikes\")\n",
    "print(f\"\\nButane spikes : {list(butane_days['Day'].values)}\\n\")\n",
    "print(f\"\\nPentane spikes : {list(pentane_days['Day'].values)}\\n\")\n",
    "print(f\"\\nNatural Gas days : {list(natural_days['Day'].values)}\\n\")"
   ]
  },
  {
   "cell_type": "markdown",
   "metadata": {},
   "source": [
    "### 3 different gas compositions \n",
    "\n",
    "- **Days 5, 20, and 30 → Spike in Butane**  \n",
    "  **Full composition:**  \n",
    "  - 76% Methane  \n",
    "  - 5% Ethane  \n",
    "  - 3% Propane  \n",
    "  - 15% **Butane**  \n",
    "  - 1% Pentane  \n",
    "\n",
    "---\n",
    "\n",
    "- **Days 10, 15, and 25 → Spike in Pentane**  \n",
    "  **Full composition:**  \n",
    "  - 66% Methane  \n",
    "  - 5% Ethane  \n",
    "  - 3% Propane  \n",
    "  - 1% Butane  \n",
    "  - 25% **Pentane**\n",
    "\n",
    "---\n",
    "\n",
    "- **All other days → Natural Gas Composition**  \n",
    "  **Full composition:**  \n",
    "  - 90% Methane  \n",
    "  - 5% Ethane  \n",
    "  - 3% Propane  \n",
    "  - 1% Butane  \n",
    "  - 1% Pentane  \n"
   ]
  },
  {
   "cell_type": "code",
   "execution_count": 13,
   "metadata": {},
   "outputs": [],
   "source": [
    "# Initialize Cantera gas\n",
    "\n",
    "gas = ct.Solution(mechanism)\n",
    "oxidizer = {\"O2\": 1, \"N2\": 3.76}"
   ]
  },
  {
   "cell_type": "code",
   "execution_count": 14,
   "metadata": {},
   "outputs": [],
   "source": [
    "# Ignition delay function\n",
    "\n",
    "def ignition_delay(gas, fuel_dict, label, day):\n",
    "    print(f\"\\nDay {day}: {label}\")\n",
    "    gas.set_equivalence_ratio(phi, fuel_dict, oxidizer)\n",
    "    gas.TP = T_preheat, P_bar * 1e5\n",
    "\n",
    "    r = ct.IdealGasConstPressureMoleReactor(gas)\n",
    "    sim = ct.ReactorNet([r])\n",
    "    sim.derivative_settings = {\"skip-third-bodies\": True, \"skip-falloff\": True}\n",
    "    sim.preconditioner = ct.AdaptivePreconditioner()\n",
    "\n",
    "    t = 0.0\n",
    "    maxtime = max_sim_time\n",
    "    T_init = r.T\n",
    "    times = []\n",
    "    temps = []\n",
    "    ignition_time = None\n",
    "\n",
    "    while t < maxtime:\n",
    "        t = sim.step()\n",
    "        times.append(t)\n",
    "        temps.append(r.T)\n",
    "\n",
    "        # Auto ignition criteria: Temperature rise of 400 K\n",
    "        if (r.T - T_init) > 400:\n",
    "            ignition_time = t\n",
    "            print(f\"Auto ignition detected at {t*1000:.2f} ms, T = {r.T:.1f} K\")\n",
    "            break\n",
    "\n",
    "    if ignition_time is None:\n",
    "        print(f\"No auto ignition detected before {maxtime*1000:.0f} ms\")\n",
    "        ignition_ms = np.nan\n",
    "        risk = \"No ignition\"\n",
    "    else:\n",
    "        ignition_ms = ignition_time * 1000.0\n",
    "        if ignition_ms <= res_time_range_ms[1]:\n",
    "            risk = \"Possible autoignition (τ <= 20 ms)\"\n",
    "        else:\n",
    "            risk = \"No autoignition (τ > 20 ms)\"\n",
    "\n",
    "    return {\n",
    "        \"Day\": day,\n",
    "        \"Case\": label,\n",
    "        \"Ignition Delay (ms)\": ignition_ms,\n",
    "        \"Max Temp (K)\": max(temps),\n",
    "        \"Risk\": risk\n",
    "    }\n"
   ]
  },
  {
   "cell_type": "code",
   "execution_count": 15,
   "metadata": {},
   "outputs": [
    {
     "name": "stdout",
     "output_type": "stream",
     "text": [
      "\n",
      "Day 1: Natural Gas\n",
      "Auto ignition detected at 26.02 ms, T = 1292.1 K\n",
      "\n",
      "Day 5: Butane Spike\n",
      "Auto ignition detected at 9.36 ms, T = 1291.9 K\n",
      "\n",
      "Day 10: Pentane Spike\n",
      "Auto ignition detected at 2.79 ms, T = 1290.2 K\n"
     ]
    }
   ],
   "source": [
    "# Ignition delay simulation\n",
    "\n",
    "results = []\n",
    "\n",
    "# Natural gas fuel\n",
    "fuel_nat = {\n",
    "    \"CH4\": first_natural_day[\"Methane\"],\n",
    "    \"C2H6\": first_natural_day[\"Ethane\"],\n",
    "    \"C3H8\": first_natural_day[\"Propane\"],\n",
    "    \"C4H10\": first_natural_day[\"Butane\"],\n",
    "    \"NC5H12\": first_natural_day[\"Pentane\"]\n",
    "}\n",
    "results.append(ignition_delay(gas, fuel_nat, \"Natural Gas\", first_natural_day[\"Day\"]))\n",
    "\n",
    "# Butane spike fuel\n",
    "if first_butane_day is not None:\n",
    "    fuel_but = {\n",
    "        \"CH4\": first_butane_day[\"Methane\"],\n",
    "        \"C2H6\": first_butane_day[\"Ethane\"],\n",
    "        \"C3H8\": first_butane_day[\"Propane\"],\n",
    "        \"C4H10\": first_butane_day[\"Butane\"],\n",
    "        \"NC5H12\": first_butane_day[\"Pentane\"]\n",
    "    }\n",
    "    results.append(ignition_delay(gas, fuel_but, \"Butane Spike\", first_butane_day[\"Day\"]))\n",
    "\n",
    "# Pentane spike fuel \n",
    "if first_pentane_day is not None:\n",
    "    fuel_pen = {\n",
    "        \"CH4\": first_pentane_day[\"Methane\"],\n",
    "        \"C2H6\": first_pentane_day[\"Ethane\"],\n",
    "        \"C3H8\": first_pentane_day[\"Propane\"],\n",
    "        \"C4H10\": first_pentane_day[\"Butane\"],\n",
    "        \"NC5H12\": first_pentane_day[\"Pentane\"]\n",
    "    }\n",
    "    results.append(ignition_delay(gas, fuel_pen, \"Pentane Spike\", first_pentane_day[\"Day\"]))\n"
   ]
  },
  {
   "cell_type": "code",
   "execution_count": 16,
   "metadata": {},
   "outputs": [
    {
     "name": "stdout",
     "output_type": "stream",
     "text": [
      "   Day           Case  Ignition Delay (ms)  Max Temp (K)  \\\n",
      "0    1    Natural Gas            26.017894   1292.136787   \n",
      "1    5   Butane Spike             9.358108   1291.901638   \n",
      "2   10  Pentane Spike             2.785603   1290.208321   \n",
      "\n",
      "                                 Risk  \n",
      "0         No autoignition (τ > 20 ms)  \n",
      "1  Possible autoignition (τ <= 20 ms)  \n",
      "2  Possible autoignition (τ <= 20 ms)  \n",
      "\n",
      "Results saved as ./results/representative_ignition_results.csv\n"
     ]
    }
   ],
   "source": [
    "# Results export\n",
    "\n",
    "df_results = pd.DataFrame(results)\n",
    "os.makedirs(\"results\", exist_ok=True)\n",
    "df_results.to_csv(\"./results/ignition_results.csv\", index=False)\n",
    "\n",
    "print(df_results)\n",
    "print(\"\\nResults saved as ./results/representative_ignition_results.csv\")"
   ]
  },
  {
   "cell_type": "code",
   "execution_count": 17,
   "metadata": {},
   "outputs": [
    {
     "data": {
      "text/html": [
       "        <script type=\"text/javascript\">\n",
       "        window.PlotlyConfig = {MathJaxConfig: 'local'};\n",
       "        if (window.MathJax && window.MathJax.Hub && window.MathJax.Hub.Config) {window.MathJax.Hub.Config({SVG: {font: \"STIX-Web\"}});}\n",
       "        </script>\n",
       "        <script type=\"module\">import \"https://cdn.plot.ly/plotly-3.1.0.min\"</script>\n",
       "        "
      ]
     },
     "metadata": {},
     "output_type": "display_data"
    },
    {
     "data": {
      "application/vnd.plotly.v1+json": {
       "config": {
        "linkText": "Export to plot.ly",
        "plotlyServerURL": "https://plot.ly",
        "showLink": false
       },
       "data": [
        {
         "marker": {
          "color": "blue",
          "line": {
           "color": "black",
           "width": 1.5
          },
          "size": 15,
          "symbol": "circle-open"
         },
         "mode": "markers+text",
         "name": "Natural Gas",
         "text": [
          "Natural Gas"
         ],
         "textposition": "top center",
         "type": "scatter",
         "x": [
          1292.1367871547343
         ],
         "y": [
          26.017894259951802
         ]
        },
        {
         "marker": {
          "color": "orange",
          "line": {
           "color": "black",
           "width": 1.5
          },
          "size": 15,
          "symbol": "diamond-open"
         },
         "mode": "markers+text",
         "name": "Butane Spike",
         "text": [
          "Butane Spike"
         ],
         "textposition": "top center",
         "type": "scatter",
         "x": [
          1291.901637608496
         ],
         "y": [
          9.358108406498596
         ]
        },
        {
         "marker": {
          "color": "red",
          "line": {
           "color": "black",
           "width": 1.5
          },
          "size": 15,
          "symbol": "star-open"
         },
         "mode": "markers+text",
         "name": "Pentane Spike",
         "text": [
          "Pentane Spike"
         ],
         "textposition": "top center",
         "type": "scatter",
         "x": [
          1290.2083208196207
         ],
         "y": [
          2.785603203059521
         ]
        }
       ],
       "layout": {
        "height": 600,
        "paper_bgcolor": "white",
        "plot_bgcolor": "white",
        "showlegend": true,
        "template": {
         "data": {
          "bar": [
           {
            "error_x": {
             "color": "#2a3f5f"
            },
            "error_y": {
             "color": "#2a3f5f"
            },
            "marker": {
             "line": {
              "color": "#E5ECF6",
              "width": 0.5
             },
             "pattern": {
              "fillmode": "overlay",
              "size": 10,
              "solidity": 0.2
             }
            },
            "type": "bar"
           }
          ],
          "barpolar": [
           {
            "marker": {
             "line": {
              "color": "#E5ECF6",
              "width": 0.5
             },
             "pattern": {
              "fillmode": "overlay",
              "size": 10,
              "solidity": 0.2
             }
            },
            "type": "barpolar"
           }
          ],
          "carpet": [
           {
            "aaxis": {
             "endlinecolor": "#2a3f5f",
             "gridcolor": "white",
             "linecolor": "white",
             "minorgridcolor": "white",
             "startlinecolor": "#2a3f5f"
            },
            "baxis": {
             "endlinecolor": "#2a3f5f",
             "gridcolor": "white",
             "linecolor": "white",
             "minorgridcolor": "white",
             "startlinecolor": "#2a3f5f"
            },
            "type": "carpet"
           }
          ],
          "choropleth": [
           {
            "colorbar": {
             "outlinewidth": 0,
             "ticks": ""
            },
            "type": "choropleth"
           }
          ],
          "contour": [
           {
            "colorbar": {
             "outlinewidth": 0,
             "ticks": ""
            },
            "colorscale": [
             [
              0,
              "#0d0887"
             ],
             [
              0.1111111111111111,
              "#46039f"
             ],
             [
              0.2222222222222222,
              "#7201a8"
             ],
             [
              0.3333333333333333,
              "#9c179e"
             ],
             [
              0.4444444444444444,
              "#bd3786"
             ],
             [
              0.5555555555555556,
              "#d8576b"
             ],
             [
              0.6666666666666666,
              "#ed7953"
             ],
             [
              0.7777777777777778,
              "#fb9f3a"
             ],
             [
              0.8888888888888888,
              "#fdca26"
             ],
             [
              1,
              "#f0f921"
             ]
            ],
            "type": "contour"
           }
          ],
          "contourcarpet": [
           {
            "colorbar": {
             "outlinewidth": 0,
             "ticks": ""
            },
            "type": "contourcarpet"
           }
          ],
          "heatmap": [
           {
            "colorbar": {
             "outlinewidth": 0,
             "ticks": ""
            },
            "colorscale": [
             [
              0,
              "#0d0887"
             ],
             [
              0.1111111111111111,
              "#46039f"
             ],
             [
              0.2222222222222222,
              "#7201a8"
             ],
             [
              0.3333333333333333,
              "#9c179e"
             ],
             [
              0.4444444444444444,
              "#bd3786"
             ],
             [
              0.5555555555555556,
              "#d8576b"
             ],
             [
              0.6666666666666666,
              "#ed7953"
             ],
             [
              0.7777777777777778,
              "#fb9f3a"
             ],
             [
              0.8888888888888888,
              "#fdca26"
             ],
             [
              1,
              "#f0f921"
             ]
            ],
            "type": "heatmap"
           }
          ],
          "histogram": [
           {
            "marker": {
             "pattern": {
              "fillmode": "overlay",
              "size": 10,
              "solidity": 0.2
             }
            },
            "type": "histogram"
           }
          ],
          "histogram2d": [
           {
            "colorbar": {
             "outlinewidth": 0,
             "ticks": ""
            },
            "colorscale": [
             [
              0,
              "#0d0887"
             ],
             [
              0.1111111111111111,
              "#46039f"
             ],
             [
              0.2222222222222222,
              "#7201a8"
             ],
             [
              0.3333333333333333,
              "#9c179e"
             ],
             [
              0.4444444444444444,
              "#bd3786"
             ],
             [
              0.5555555555555556,
              "#d8576b"
             ],
             [
              0.6666666666666666,
              "#ed7953"
             ],
             [
              0.7777777777777778,
              "#fb9f3a"
             ],
             [
              0.8888888888888888,
              "#fdca26"
             ],
             [
              1,
              "#f0f921"
             ]
            ],
            "type": "histogram2d"
           }
          ],
          "histogram2dcontour": [
           {
            "colorbar": {
             "outlinewidth": 0,
             "ticks": ""
            },
            "colorscale": [
             [
              0,
              "#0d0887"
             ],
             [
              0.1111111111111111,
              "#46039f"
             ],
             [
              0.2222222222222222,
              "#7201a8"
             ],
             [
              0.3333333333333333,
              "#9c179e"
             ],
             [
              0.4444444444444444,
              "#bd3786"
             ],
             [
              0.5555555555555556,
              "#d8576b"
             ],
             [
              0.6666666666666666,
              "#ed7953"
             ],
             [
              0.7777777777777778,
              "#fb9f3a"
             ],
             [
              0.8888888888888888,
              "#fdca26"
             ],
             [
              1,
              "#f0f921"
             ]
            ],
            "type": "histogram2dcontour"
           }
          ],
          "mesh3d": [
           {
            "colorbar": {
             "outlinewidth": 0,
             "ticks": ""
            },
            "type": "mesh3d"
           }
          ],
          "parcoords": [
           {
            "line": {
             "colorbar": {
              "outlinewidth": 0,
              "ticks": ""
             }
            },
            "type": "parcoords"
           }
          ],
          "pie": [
           {
            "automargin": true,
            "type": "pie"
           }
          ],
          "scatter": [
           {
            "fillpattern": {
             "fillmode": "overlay",
             "size": 10,
             "solidity": 0.2
            },
            "type": "scatter"
           }
          ],
          "scatter3d": [
           {
            "line": {
             "colorbar": {
              "outlinewidth": 0,
              "ticks": ""
             }
            },
            "marker": {
             "colorbar": {
              "outlinewidth": 0,
              "ticks": ""
             }
            },
            "type": "scatter3d"
           }
          ],
          "scattercarpet": [
           {
            "marker": {
             "colorbar": {
              "outlinewidth": 0,
              "ticks": ""
             }
            },
            "type": "scattercarpet"
           }
          ],
          "scattergeo": [
           {
            "marker": {
             "colorbar": {
              "outlinewidth": 0,
              "ticks": ""
             }
            },
            "type": "scattergeo"
           }
          ],
          "scattergl": [
           {
            "marker": {
             "colorbar": {
              "outlinewidth": 0,
              "ticks": ""
             }
            },
            "type": "scattergl"
           }
          ],
          "scattermap": [
           {
            "marker": {
             "colorbar": {
              "outlinewidth": 0,
              "ticks": ""
             }
            },
            "type": "scattermap"
           }
          ],
          "scattermapbox": [
           {
            "marker": {
             "colorbar": {
              "outlinewidth": 0,
              "ticks": ""
             }
            },
            "type": "scattermapbox"
           }
          ],
          "scatterpolar": [
           {
            "marker": {
             "colorbar": {
              "outlinewidth": 0,
              "ticks": ""
             }
            },
            "type": "scatterpolar"
           }
          ],
          "scatterpolargl": [
           {
            "marker": {
             "colorbar": {
              "outlinewidth": 0,
              "ticks": ""
             }
            },
            "type": "scatterpolargl"
           }
          ],
          "scatterternary": [
           {
            "marker": {
             "colorbar": {
              "outlinewidth": 0,
              "ticks": ""
             }
            },
            "type": "scatterternary"
           }
          ],
          "surface": [
           {
            "colorbar": {
             "outlinewidth": 0,
             "ticks": ""
            },
            "colorscale": [
             [
              0,
              "#0d0887"
             ],
             [
              0.1111111111111111,
              "#46039f"
             ],
             [
              0.2222222222222222,
              "#7201a8"
             ],
             [
              0.3333333333333333,
              "#9c179e"
             ],
             [
              0.4444444444444444,
              "#bd3786"
             ],
             [
              0.5555555555555556,
              "#d8576b"
             ],
             [
              0.6666666666666666,
              "#ed7953"
             ],
             [
              0.7777777777777778,
              "#fb9f3a"
             ],
             [
              0.8888888888888888,
              "#fdca26"
             ],
             [
              1,
              "#f0f921"
             ]
            ],
            "type": "surface"
           }
          ],
          "table": [
           {
            "cells": {
             "fill": {
              "color": "#EBF0F8"
             },
             "line": {
              "color": "white"
             }
            },
            "header": {
             "fill": {
              "color": "#C8D4E3"
             },
             "line": {
              "color": "white"
             }
            },
            "type": "table"
           }
          ]
         },
         "layout": {
          "annotationdefaults": {
           "arrowcolor": "#2a3f5f",
           "arrowhead": 0,
           "arrowwidth": 1
          },
          "autotypenumbers": "strict",
          "coloraxis": {
           "colorbar": {
            "outlinewidth": 0,
            "ticks": ""
           }
          },
          "colorscale": {
           "diverging": [
            [
             0,
             "#8e0152"
            ],
            [
             0.1,
             "#c51b7d"
            ],
            [
             0.2,
             "#de77ae"
            ],
            [
             0.3,
             "#f1b6da"
            ],
            [
             0.4,
             "#fde0ef"
            ],
            [
             0.5,
             "#f7f7f7"
            ],
            [
             0.6,
             "#e6f5d0"
            ],
            [
             0.7,
             "#b8e186"
            ],
            [
             0.8,
             "#7fbc41"
            ],
            [
             0.9,
             "#4d9221"
            ],
            [
             1,
             "#276419"
            ]
           ],
           "sequential": [
            [
             0,
             "#0d0887"
            ],
            [
             0.1111111111111111,
             "#46039f"
            ],
            [
             0.2222222222222222,
             "#7201a8"
            ],
            [
             0.3333333333333333,
             "#9c179e"
            ],
            [
             0.4444444444444444,
             "#bd3786"
            ],
            [
             0.5555555555555556,
             "#d8576b"
            ],
            [
             0.6666666666666666,
             "#ed7953"
            ],
            [
             0.7777777777777778,
             "#fb9f3a"
            ],
            [
             0.8888888888888888,
             "#fdca26"
            ],
            [
             1,
             "#f0f921"
            ]
           ],
           "sequentialminus": [
            [
             0,
             "#0d0887"
            ],
            [
             0.1111111111111111,
             "#46039f"
            ],
            [
             0.2222222222222222,
             "#7201a8"
            ],
            [
             0.3333333333333333,
             "#9c179e"
            ],
            [
             0.4444444444444444,
             "#bd3786"
            ],
            [
             0.5555555555555556,
             "#d8576b"
            ],
            [
             0.6666666666666666,
             "#ed7953"
            ],
            [
             0.7777777777777778,
             "#fb9f3a"
            ],
            [
             0.8888888888888888,
             "#fdca26"
            ],
            [
             1,
             "#f0f921"
            ]
           ]
          },
          "colorway": [
           "#636efa",
           "#EF553B",
           "#00cc96",
           "#ab63fa",
           "#FFA15A",
           "#19d3f3",
           "#FF6692",
           "#B6E880",
           "#FF97FF",
           "#FECB52"
          ],
          "font": {
           "color": "#2a3f5f"
          },
          "geo": {
           "bgcolor": "white",
           "lakecolor": "white",
           "landcolor": "#E5ECF6",
           "showlakes": true,
           "showland": true,
           "subunitcolor": "white"
          },
          "hoverlabel": {
           "align": "left"
          },
          "hovermode": "closest",
          "mapbox": {
           "style": "light"
          },
          "paper_bgcolor": "white",
          "plot_bgcolor": "#E5ECF6",
          "polar": {
           "angularaxis": {
            "gridcolor": "white",
            "linecolor": "white",
            "ticks": ""
           },
           "bgcolor": "#E5ECF6",
           "radialaxis": {
            "gridcolor": "white",
            "linecolor": "white",
            "ticks": ""
           }
          },
          "scene": {
           "xaxis": {
            "backgroundcolor": "#E5ECF6",
            "gridcolor": "white",
            "gridwidth": 2,
            "linecolor": "white",
            "showbackground": true,
            "ticks": "",
            "zerolinecolor": "white"
           },
           "yaxis": {
            "backgroundcolor": "#E5ECF6",
            "gridcolor": "white",
            "gridwidth": 2,
            "linecolor": "white",
            "showbackground": true,
            "ticks": "",
            "zerolinecolor": "white"
           },
           "zaxis": {
            "backgroundcolor": "#E5ECF6",
            "gridcolor": "white",
            "gridwidth": 2,
            "linecolor": "white",
            "showbackground": true,
            "ticks": "",
            "zerolinecolor": "white"
           }
          },
          "shapedefaults": {
           "line": {
            "color": "#2a3f5f"
           }
          },
          "ternary": {
           "aaxis": {
            "gridcolor": "white",
            "linecolor": "white",
            "ticks": ""
           },
           "baxis": {
            "gridcolor": "white",
            "linecolor": "white",
            "ticks": ""
           },
           "bgcolor": "#E5ECF6",
           "caxis": {
            "gridcolor": "white",
            "linecolor": "white",
            "ticks": ""
           }
          },
          "title": {
           "x": 0.05
          },
          "xaxis": {
           "automargin": true,
           "gridcolor": "white",
           "linecolor": "white",
           "ticks": "",
           "title": {
            "standoff": 15
           },
           "zerolinecolor": "white",
           "zerolinewidth": 2
          },
          "yaxis": {
           "automargin": true,
           "gridcolor": "white",
           "linecolor": "white",
           "ticks": "",
           "title": {
            "standoff": 15
           },
           "zerolinecolor": "white",
           "zerolinewidth": 2
          }
         }
        },
        "title": {
         "text": "Ignition Delay vs Max Temperature for Representative Days (Phi=0.625, P=40.0 bar)"
        },
        "width": 800,
        "xaxis": {
         "title": {
          "text": "Max Temperature (K)"
         }
        },
        "yaxis": {
         "title": {
          "text": "Ignition Delay (ms)"
         },
         "type": "log"
        }
       }
      },
      "image/png": "[encoded data removed]",
      "text/html": [
       "<div>            <script src=\"https://cdnjs.cloudflare.com/ajax/libs/mathjax/2.7.5/MathJax.js?config=TeX-AMS-MML_SVG\"></script><script type=\"text/javascript\">if (window.MathJax && window.MathJax.Hub && window.MathJax.Hub.Config) {window.MathJax.Hub.Config({SVG: {font: \"STIX-Web\"}});}</script>                <script type=\"text/javascript\">window.PlotlyConfig = {MathJaxConfig: 'local'};</script>\n",
       "        <script charset=\"utf-8\" src=\"https://cdn.plot.ly/plotly-3.1.0.min.js\" integrity=\"sha256-Ei4740bWZhaUTQuD6q9yQlgVCMPBz6CZWhevDYPv93A=\" crossorigin=\"anonymous\"></script>                <div id=\"debe809b-d515-47f9-aa45-3f32119d3f0b\" class=\"plotly-graph-div\" style=\"height:600px; width:800px;\"></div>            <script type=\"text/javascript\">                window.PLOTLYENV=window.PLOTLYENV || {};                                if (document.getElementById(\"debe809b-d515-47f9-aa45-3f32119d3f0b\")) {                    Plotly.newPlot(                        \"debe809b-d515-47f9-aa45-3f32119d3f0b\",                        [{\"marker\":{\"color\":\"blue\",\"line\":{\"color\":\"black\",\"width\":1.5},\"size\":15,\"symbol\":\"circle-open\"},\"mode\":\"markers+text\",\"name\":\"Natural Gas\",\"text\":[\"Natural Gas\"],\"textposition\":\"top center\",\"x\":[1292.1367871547343],\"y\":[26.017894259951802],\"type\":\"scatter\"},{\"marker\":{\"color\":\"orange\",\"line\":{\"color\":\"black\",\"width\":1.5},\"size\":15,\"symbol\":\"diamond-open\"},\"mode\":\"markers+text\",\"name\":\"Butane Spike\",\"text\":[\"Butane Spike\"],\"textposition\":\"top center\",\"x\":[1291.901637608496],\"y\":[9.358108406498596],\"type\":\"scatter\"},{\"marker\":{\"color\":\"red\",\"line\":{\"color\":\"black\",\"width\":1.5},\"size\":15,\"symbol\":\"star-open\"},\"mode\":\"markers+text\",\"name\":\"Pentane Spike\",\"text\":[\"Pentane Spike\"],\"textposition\":\"top center\",\"x\":[1290.2083208196207],\"y\":[2.785603203059521],\"type\":\"scatter\"}],                        {\"height\":600,\"paper_bgcolor\":\"white\",\"plot_bgcolor\":\"white\",\"showlegend\":true,\"template\":{\"data\":{\"barpolar\":[{\"marker\":{\"line\":{\"color\":\"#E5ECF6\",\"width\":0.5},\"pattern\":{\"fillmode\":\"overlay\",\"size\":10,\"solidity\":0.2}},\"type\":\"barpolar\"}],\"bar\":[{\"error_x\":{\"color\":\"#2a3f5f\"},\"error_y\":{\"color\":\"#2a3f5f\"},\"marker\":{\"line\":{\"color\":\"#E5ECF6\",\"width\":0.5},\"pattern\":{\"fillmode\":\"overlay\",\"size\":10,\"solidity\":0.2}},\"type\":\"bar\"}],\"carpet\":[{\"aaxis\":{\"endlinecolor\":\"#2a3f5f\",\"gridcolor\":\"white\",\"linecolor\":\"white\",\"minorgridcolor\":\"white\",\"startlinecolor\":\"#2a3f5f\"},\"baxis\":{\"endlinecolor\":\"#2a3f5f\",\"gridcolor\":\"white\",\"linecolor\":\"white\",\"minorgridcolor\":\"white\",\"startlinecolor\":\"#2a3f5f\"},\"type\":\"carpet\"}],\"choropleth\":[{\"colorbar\":{\"outlinewidth\":0,\"ticks\":\"\"},\"type\":\"choropleth\"}],\"contourcarpet\":[{\"colorbar\":{\"outlinewidth\":0,\"ticks\":\"\"},\"type\":\"contourcarpet\"}],\"contour\":[{\"colorbar\":{\"outlinewidth\":0,\"ticks\":\"\"},\"colorscale\":[[0.0,\"#0d0887\"],[0.1111111111111111,\"#46039f\"],[0.2222222222222222,\"#7201a8\"],[0.3333333333333333,\"#9c179e\"],[0.4444444444444444,\"#bd3786\"],[0.5555555555555556,\"#d8576b\"],[0.6666666666666666,\"#ed7953\"],[0.7777777777777778,\"#fb9f3a\"],[0.8888888888888888,\"#fdca26\"],[1.0,\"#f0f921\"]],\"type\":\"contour\"}],\"heatmap\":[{\"colorbar\":{\"outlinewidth\":0,\"ticks\":\"\"},\"colorscale\":[[0.0,\"#0d0887\"],[0.1111111111111111,\"#46039f\"],[0.2222222222222222,\"#7201a8\"],[0.3333333333333333,\"#9c179e\"],[0.4444444444444444,\"#bd3786\"],[0.5555555555555556,\"#d8576b\"],[0.6666666666666666,\"#ed7953\"],[0.7777777777777778,\"#fb9f3a\"],[0.8888888888888888,\"#fdca26\"],[1.0,\"#f0f921\"]],\"type\":\"heatmap\"}],\"histogram2dcontour\":[{\"colorbar\":{\"outlinewidth\":0,\"ticks\":\"\"},\"colorscale\":[[0.0,\"#0d0887\"],[0.1111111111111111,\"#46039f\"],[0.2222222222222222,\"#7201a8\"],[0.3333333333333333,\"#9c179e\"],[0.4444444444444444,\"#bd3786\"],[0.5555555555555556,\"#d8576b\"],[0.6666666666666666,\"#ed7953\"],[0.7777777777777778,\"#fb9f3a\"],[0.8888888888888888,\"#fdca26\"],[1.0,\"#f0f921\"]],\"type\":\"histogram2dcontour\"}],\"histogram2d\":[{\"colorbar\":{\"outlinewidth\":0,\"ticks\":\"\"},\"colorscale\":[[0.0,\"#0d0887\"],[0.1111111111111111,\"#46039f\"],[0.2222222222222222,\"#7201a8\"],[0.3333333333333333,\"#9c179e\"],[0.4444444444444444,\"#bd3786\"],[0.5555555555555556,\"#d8576b\"],[0.6666666666666666,\"#ed7953\"],[0.7777777777777778,\"#fb9f3a\"],[0.8888888888888888,\"#fdca26\"],[1.0,\"#f0f921\"]],\"type\":\"histogram2d\"}],\"histogram\":[{\"marker\":{\"pattern\":{\"fillmode\":\"overlay\",\"size\":10,\"solidity\":0.2}},\"type\":\"histogram\"}],\"mesh3d\":[{\"colorbar\":{\"outlinewidth\":0,\"ticks\":\"\"},\"type\":\"mesh3d\"}],\"parcoords\":[{\"line\":{\"colorbar\":{\"outlinewidth\":0,\"ticks\":\"\"}},\"type\":\"parcoords\"}],\"pie\":[{\"automargin\":true,\"type\":\"pie\"}],\"scatter3d\":[{\"line\":{\"colorbar\":{\"outlinewidth\":0,\"ticks\":\"\"}},\"marker\":{\"colorbar\":{\"outlinewidth\":0,\"ticks\":\"\"}},\"type\":\"scatter3d\"}],\"scattercarpet\":[{\"marker\":{\"colorbar\":{\"outlinewidth\":0,\"ticks\":\"\"}},\"type\":\"scattercarpet\"}],\"scattergeo\":[{\"marker\":{\"colorbar\":{\"outlinewidth\":0,\"ticks\":\"\"}},\"type\":\"scattergeo\"}],\"scattergl\":[{\"marker\":{\"colorbar\":{\"outlinewidth\":0,\"ticks\":\"\"}},\"type\":\"scattergl\"}],\"scattermapbox\":[{\"marker\":{\"colorbar\":{\"outlinewidth\":0,\"ticks\":\"\"}},\"type\":\"scattermapbox\"}],\"scattermap\":[{\"marker\":{\"colorbar\":{\"outlinewidth\":0,\"ticks\":\"\"}},\"type\":\"scattermap\"}],\"scatterpolargl\":[{\"marker\":{\"colorbar\":{\"outlinewidth\":0,\"ticks\":\"\"}},\"type\":\"scatterpolargl\"}],\"scatterpolar\":[{\"marker\":{\"colorbar\":{\"outlinewidth\":0,\"ticks\":\"\"}},\"type\":\"scatterpolar\"}],\"scatter\":[{\"fillpattern\":{\"fillmode\":\"overlay\",\"size\":10,\"solidity\":0.2},\"type\":\"scatter\"}],\"scatterternary\":[{\"marker\":{\"colorbar\":{\"outlinewidth\":0,\"ticks\":\"\"}},\"type\":\"scatterternary\"}],\"surface\":[{\"colorbar\":{\"outlinewidth\":0,\"ticks\":\"\"},\"colorscale\":[[0.0,\"#0d0887\"],[0.1111111111111111,\"#46039f\"],[0.2222222222222222,\"#7201a8\"],[0.3333333333333333,\"#9c179e\"],[0.4444444444444444,\"#bd3786\"],[0.5555555555555556,\"#d8576b\"],[0.6666666666666666,\"#ed7953\"],[0.7777777777777778,\"#fb9f3a\"],[0.8888888888888888,\"#fdca26\"],[1.0,\"#f0f921\"]],\"type\":\"surface\"}],\"table\":[{\"cells\":{\"fill\":{\"color\":\"#EBF0F8\"},\"line\":{\"color\":\"white\"}},\"header\":{\"fill\":{\"color\":\"#C8D4E3\"},\"line\":{\"color\":\"white\"}},\"type\":\"table\"}]},\"layout\":{\"annotationdefaults\":{\"arrowcolor\":\"#2a3f5f\",\"arrowhead\":0,\"arrowwidth\":1},\"autotypenumbers\":\"strict\",\"coloraxis\":{\"colorbar\":{\"outlinewidth\":0,\"ticks\":\"\"}},\"colorscale\":{\"diverging\":[[0,\"#8e0152\"],[0.1,\"#c51b7d\"],[0.2,\"#de77ae\"],[0.3,\"#f1b6da\"],[0.4,\"#fde0ef\"],[0.5,\"#f7f7f7\"],[0.6,\"#e6f5d0\"],[0.7,\"#b8e186\"],[0.8,\"#7fbc41\"],[0.9,\"#4d9221\"],[1,\"#276419\"]],\"sequential\":[[0.0,\"#0d0887\"],[0.1111111111111111,\"#46039f\"],[0.2222222222222222,\"#7201a8\"],[0.3333333333333333,\"#9c179e\"],[0.4444444444444444,\"#bd3786\"],[0.5555555555555556,\"#d8576b\"],[0.6666666666666666,\"#ed7953\"],[0.7777777777777778,\"#fb9f3a\"],[0.8888888888888888,\"#fdca26\"],[1.0,\"#f0f921\"]],\"sequentialminus\":[[0.0,\"#0d0887\"],[0.1111111111111111,\"#46039f\"],[0.2222222222222222,\"#7201a8\"],[0.3333333333333333,\"#9c179e\"],[0.4444444444444444,\"#bd3786\"],[0.5555555555555556,\"#d8576b\"],[0.6666666666666666,\"#ed7953\"],[0.7777777777777778,\"#fb9f3a\"],[0.8888888888888888,\"#fdca26\"],[1.0,\"#f0f921\"]]},\"colorway\":[\"#636efa\",\"#EF553B\",\"#00cc96\",\"#ab63fa\",\"#FFA15A\",\"#19d3f3\",\"#FF6692\",\"#B6E880\",\"#FF97FF\",\"#FECB52\"],\"font\":{\"color\":\"#2a3f5f\"},\"geo\":{\"bgcolor\":\"white\",\"lakecolor\":\"white\",\"landcolor\":\"#E5ECF6\",\"showlakes\":true,\"showland\":true,\"subunitcolor\":\"white\"},\"hoverlabel\":{\"align\":\"left\"},\"hovermode\":\"closest\",\"mapbox\":{\"style\":\"light\"},\"paper_bgcolor\":\"white\",\"plot_bgcolor\":\"#E5ECF6\",\"polar\":{\"angularaxis\":{\"gridcolor\":\"white\",\"linecolor\":\"white\",\"ticks\":\"\"},\"bgcolor\":\"#E5ECF6\",\"radialaxis\":{\"gridcolor\":\"white\",\"linecolor\":\"white\",\"ticks\":\"\"}},\"scene\":{\"xaxis\":{\"backgroundcolor\":\"#E5ECF6\",\"gridcolor\":\"white\",\"gridwidth\":2,\"linecolor\":\"white\",\"showbackground\":true,\"ticks\":\"\",\"zerolinecolor\":\"white\"},\"yaxis\":{\"backgroundcolor\":\"#E5ECF6\",\"gridcolor\":\"white\",\"gridwidth\":2,\"linecolor\":\"white\",\"showbackground\":true,\"ticks\":\"\",\"zerolinecolor\":\"white\"},\"zaxis\":{\"backgroundcolor\":\"#E5ECF6\",\"gridcolor\":\"white\",\"gridwidth\":2,\"linecolor\":\"white\",\"showbackground\":true,\"ticks\":\"\",\"zerolinecolor\":\"white\"}},\"shapedefaults\":{\"line\":{\"color\":\"#2a3f5f\"}},\"ternary\":{\"aaxis\":{\"gridcolor\":\"white\",\"linecolor\":\"white\",\"ticks\":\"\"},\"baxis\":{\"gridcolor\":\"white\",\"linecolor\":\"white\",\"ticks\":\"\"},\"bgcolor\":\"#E5ECF6\",\"caxis\":{\"gridcolor\":\"white\",\"linecolor\":\"white\",\"ticks\":\"\"}},\"title\":{\"x\":0.05},\"xaxis\":{\"automargin\":true,\"gridcolor\":\"white\",\"linecolor\":\"white\",\"ticks\":\"\",\"title\":{\"standoff\":15},\"zerolinecolor\":\"white\",\"zerolinewidth\":2},\"yaxis\":{\"automargin\":true,\"gridcolor\":\"white\",\"linecolor\":\"white\",\"ticks\":\"\",\"title\":{\"standoff\":15},\"zerolinecolor\":\"white\",\"zerolinewidth\":2}}},\"title\":{\"text\":\"Ignition Delay vs Max Temperature for Representative Days (Phi=0.625, P=40.0 bar)\"},\"width\":800,\"xaxis\":{\"title\":{\"text\":\"Max Temperature (K)\"}},\"yaxis\":{\"title\":{\"text\":\"Ignition Delay (ms)\"},\"type\":\"log\"}},                        {\"responsive\": true}                    ).then(function(){\n",
       "                            \n",
       "var gd = document.getElementById('debe809b-d515-47f9-aa45-3f32119d3f0b');\n",
       "var x = new MutationObserver(function (mutations, observer) {{\n",
       "        var display = window.getComputedStyle(gd).display;\n",
       "        if (!display || display === 'none') {{\n",
       "            console.log([gd, 'removed!']);\n",
       "            Plotly.purge(gd);\n",
       "            observer.disconnect();\n",
       "        }}\n",
       "}});\n",
       "\n",
       "// Listen for the removal of the full notebook cells\n",
       "var notebookContainer = gd.closest('#notebook-container');\n",
       "if (notebookContainer) {{\n",
       "    x.observe(notebookContainer, {childList: true});\n",
       "}}\n",
       "\n",
       "// Listen for the clearing of the current output cell\n",
       "var outputEl = gd.closest('.output');\n",
       "if (outputEl) {{\n",
       "    x.observe(outputEl, {childList: true});\n",
       "}}\n",
       "\n",
       "                        })                };            </script>        </div>"
      ]
     },
     "metadata": {},
     "output_type": "display_data"
    }
   ],
   "source": [
    "import plotly.graph_objs as go\n",
    "import plotly\n",
    "plotly.offline.init_notebook_mode(connected=True)\n",
    "\n",
    "max_temps = df_results[\"Max Temp (K)\"].tolist()\n",
    "ignition_delays = df_results[\"Ignition Delay (ms)\"].tolist()\n",
    "cases = df_results[\"Case\"].tolist()\n",
    "\n",
    "colors = ['blue', 'orange', 'red']  \n",
    "symbols = ['circle-open','diamond-open','star-open']\n",
    "\n",
    "traces = []\n",
    "for i, case in enumerate(cases):\n",
    "    trace = go.Scatter(\n",
    "        x=[max_temps[i]],\n",
    "        y=[ignition_delays[i]],\n",
    "        mode='markers+text',\n",
    "        name=case,\n",
    "        text=[case],\n",
    "        textposition='top center',\n",
    "        marker=dict(\n",
    "            color=colors[i],\n",
    "            symbol=symbols[i],\n",
    "            size=15,\n",
    "            line=dict(color='black', width=1.5)\n",
    "        )\n",
    "    )\n",
    "    traces.append(trace)\n",
    "\n",
    "layout = go.Layout(\n",
    "    title=f'Ignition Delay vs Max Temperature for Representative Days (Phi={phi}, P={P_bar} bar)',\n",
    "    xaxis=dict(title='Max Temperature (K)'),\n",
    "    yaxis=dict(title='Ignition Delay (ms)', type='log'),\n",
    "    width=800,\n",
    "    height=600,\n",
    "    paper_bgcolor='white',\n",
    "    plot_bgcolor='white',\n",
    "    showlegend=True\n",
    ")\n",
    "\n",
    "fig = go.Figure(data=traces, layout=layout)\n",
    "plotly.offline.iplot(fig)"
   ]
  },
  {
   "cell_type": "markdown",
   "metadata": {},
   "source": [
    "#### Results and Discussion\n",
    "\n",
    "| Day | Case            | Ignition Delay (ms) | Max Temp (K) | Risk |\n",
    "|-----|----------------|------------------|-------------|------|\n",
    "| 1   | Natural Gas    | 26.02            | 1292.1      | Low  |\n",
    "| 5   | Butane Spike   | 9.36             | 1291.9      | Elevated |\n",
    "| 10  | Pentane Spike  | 2.79             | 1290.2      | High |\n",
    "\n",
    "**Probability of Autoignition:**  \n",
    "\n",
    "Assuming a distribution of residence times in the premixer ranging from $ \\tau_\\text{res,min} = 2 \\text{ms}$ to $\\tau_\\text{res,max} = 20 \\text{ms}$, the likelihood of autoignition depends on whether the ignition delay $ \\tau_\\text{ign}$ is within this range. \n",
    "- For **natural gas**: $ \\tau_\\text{ign} $ = 26 ms > $\\tau_\\text{res,max}$ -> autoignition is unlikely. \n",
    "- For **butane spikes** ($ \\tau_\\text{ign} $ = 9.36 ms < $\\tau_\\text{res,max}$). \n",
    "- For **pentane spikes** ($ \\tau_\\text{ign} $ = 2.78 ms < $\\tau_\\text{res,max}$).\n",
    "\n",
    "For days with spikes, some fraction of the mixture will ignite while passing through the premixer. \n",
    "If the mixture recirculates or passes through multiple times, the cumulative probability increases: even a small pocket with $\\tau_\\text{ign}$ < $\\tau_\\text{res,max}$ can trigger autoignition, increasing the risk.\n",
    "\n",
    "We define **n**, the number of times the mixture could potentially recirculate or pass through the premixer before ignition:\n",
    "\n",
    "$$\n",
    "n = \\left\\lfloor \\frac{\\tau_\\text{res,max}}{\\tau_\\text{ign}} \\right\\rfloor\n",
    "$$\n",
    "\n",
    "- **Natural Gas:**  \n",
    "  $\n",
    "  n = \\left\\lfloor \\frac{20}{26.02} \\right\\rfloor $ = 0 \n",
    "    \n",
    "  $ \\tau_\\text{ign} > \\tau_\\text{res,max}$  → autoignition is unlikely. \n",
    "\n",
    "- **Butane Spike:**  \n",
    "  $\n",
    "  n = \\left\\lfloor \\frac{20}{9.36} \\right\\rfloor = 2\n",
    "  $ \n",
    "  A portion of the mixture may ignite during one of the first few passes. Probability increases with recirculation.\n",
    "\n",
    "- **Pentane Spike:**  \n",
    "  $\n",
    "  n = \\left\\lfloor \\frac{20}{2.79} \\right\\rfloor = 7\n",
    "  $  \n",
    "  Very short $\\tau_\\text{ign}$ → high likelihood of autoignition even in the first pass.\n",
    "\n",
    "\n",
    "Assuming independent passes, the cumulative probability **P** that at least one pocket ignites after **n passes** can be approximated by:\n",
    "\n",
    "\n",
    "$$P = 1 - (1 - p_\\text{single} )^n$$\n",
    "\n",
    "\n",
    "where **$ p_\\text{single} $** is the probability of ignition in a single pass.\n",
    "\n",
    "Assuming 0 < **$ p_\\text{single} $** < 1, then the function n -> $(1 - p_\\text{single} )^n$ decreases as n increases. Then P gets closer to one as n increases. \n",
    "- Natural Gas: n = 0 → P ≈ 0%  \n",
    "- Butane Spike: n = 2 → P ≈ higher  \n",
    "- Pentane Spike: n = 7 → P ≈ highest  \n",
    "\n",
    "> Pentane spikes present the highest autoignition risk, followed by butane spikes, while natural gas is unlikely to ignite in the premixer under these operating conditions.\n",
    "\n",
    "---\n",
    "\n",
    "**Effect of Higher Hydrocarbons:**  \n",
    "- HHCs such as butane and pentane have **larger molecular structures** → longer carbon chains and more available hydrogen atoms → increases reactivity of the fluid and the generation of radicals during combustion.\n",
    "- More **C-C** and **C-H** bonds, notably **β-hydrogens** (H atoms on the second C atom from a functional group)\n",
    "- β-hydrogens are more easily removed by reactive radicals (OH, O or H) which causes a **radical chain reaction**.\n",
    "      - The process begins with **H-abstraction**:\n",
    "  $$\n",
    "  \\text{RH (hydrocarbon)} + \\text{OH} \\rightarrow \\text{R· (radical)} + \\text{H₂O}\n",
    "  $$\n",
    "      - The formed alkyl radicals **R·** undergo **β-scission**, fragmenting into smaller and more reactive radicals (CH₃ or C₂H₅).\n",
    "- These radicals then propagate oxidation and heat release.\n",
    "- The **chain reaction accelerates** as more radicals are produced:\n",
    "\n",
    "  - **Initiation:** formation of radicals via H-abstraction.  \n",
    "  - **Propagation:** radicals react with O₂ and hydrocarbons to sustain the chain.  \n",
    "  - **Branching:** radical recombination and oxidation produce multiple new radicals (OH, H, O).  \n",
    "  - This cascade shortens the **ignition delay time (τₙₗₙ)** since the radical pool grows faster → **higher hydrocarbons ignite much more rapidly** than methane-based mixtures.\n",
    "\n",
    "  \n",
    " \n",
    "- **Natural gas (mostly methane)** has a long ignition delay (26 ms) because methane’s C–H bonds are **strong and difficult to break**, demanding large activation energy to form radicals.\n",
    "- **Pentane vs Butane:** pentane has more β-hydrogens and longer carbon chain → generates more radicals → ignition delay shorter than butane. \n",
    "  → τₙₗₙ drops dramatically to ~2.8 ms.\n",
    "\n",
    "---\n",
    "\n",
    "**Effect of hydrogen admixing:**  \n",
    "According to S.M.Frolov in \"Self-ignition of hydrocarbon–hydrogen–air mixtures\"\n",
    "- At **T < ~1050 K**, adding hydrogen can **increase ignition delay** → hydrogen reacts with hydrocarbon intermediates forming less reactive species → chain branching is inhibited.  \n",
    "- At **T > ~1050 K** (our case), adding hydrogen **decreases ignition delay** → hydrogen acts as a promoter, accelerating radical chain propagation.  \n",
    "- **Implication:** Hydrogen can either inhibit or promote ignition depending on temperature, because it reacts with radicals and intermediates, affecting chain branching. In our case, hydrogen addition increases reactivity. \n",
    "\n",
    "---\n",
    "\n",
    "**Additional thought: Why are max temperatures so close, and why is the max temperature for the natural gas composition higher ?**\n",
    "The ignition simulations show max temperatures around 1290–1292 K for all fuels. At constant pressure, the adiabatic flame temperature mainly depends on the equivalence ratio φ and the stoichiometry, not on the specific hydrocarbon.\n",
    "According to “Oxidation of C1–C5 Alkane Quinternary Natural Gas Mixtures” by Healy et al:\n",
    "For C₁–C₅ fuels at the same φ: The energy released per mole of O₂ is quite similar. The heat capacities of the combustion products (CO₂, H₂O, N₂) are nearly the same → the adiabatic temperatures end up very close.\n",
    "\n",
    "The natural gas mixture ignites later (~26 ms) and releases heat more gradually, which can lead to a slightly higher temperature."
   ]
  },
  {
   "cell_type": "markdown",
   "metadata": {},
   "source": [
    "**Let's compute $LHV_{mix}$, $\\dot{m}_{air}$ and $\\dot{m}_{fuel}$**:"
   ]
  },
  {
   "cell_type": "code",
   "execution_count": 18,
   "metadata": {},
   "outputs": [],
   "source": [
    "# Constants & LHVs (J/kg)\n",
    "# LHV values (mass basis) — https://www.engineeringtoolbox.com/fuels-higher-calorific-values-d_169.html.\n",
    "LHV = {\n",
    "'CH4': 50.0e6, # J/kg\n",
    "'C2H6': 47.8e6,\n",
    "'C3H8': 46.4e6,\n",
    "'C4H10': 45.3e6,\n",
    "'NC5H12': 45.4e6\n",
    "}\n",
    "\n",
    "# Molecular weights (g/mol) - https://www.engineeringtoolbox.com/molecular-weight-gas-vapor-d_1156.html\n",
    "MW = {'CH4':16.043, 'C2H6':30.070, 'C3H8':44.097, 'C4H10':58.124, 'NC5H12':72.151}\n",
    "\n",
    "# Air constants\n",
    "M_air = 28.97  # g/mol\n",
    "\n",
    "# Chemical composition (x, y) of each hydrocarbure CxHy\n",
    "chem_formula = {\n",
    "    \"CH4\":  (1, 4),\n",
    "    \"C2H6\": (2, 6),\n",
    "    \"C3H8\": (3, 8),\n",
    "    \"C4H10\":(4, 10),\n",
    "    \"NC5H12\":(5, 12)\n",
    "}"
   ]
  },
  {
   "cell_type": "code",
   "execution_count": 19,
   "metadata": {},
   "outputs": [],
   "source": [
    "# Chosen Turbine Operating Conditions\n",
    "power_out = 60e6     # Power Output [W]\n",
    "eta = 0.42           # Thermal efficiency\n",
    "lambda_excess = 2.0  # Air Excess factor\n",
    "\n",
    "# Chemical mechanism\n",
    "mech_file = \"nuig_3005.yaml\"   # C1-C5 mech"
   ]
  },
  {
   "cell_type": "code",
   "execution_count": 20,
   "metadata": {},
   "outputs": [],
   "source": [
    "results = []\n",
    "\n",
    "# Define a mix  \n",
    "gas = ct.Solution(mech_file)"
   ]
  },
  {
   "cell_type": "code",
   "execution_count": 10,
   "metadata": {},
   "outputs": [],
   "source": [
    "gas.TP = T_preheat, P_bar * 1e5"
   ]
  },
  {
   "cell_type": "code",
   "execution_count": 21,
   "metadata": {},
   "outputs": [
    {
     "name": "stdout",
     "output_type": "stream",
     "text": [
      "Processing day 1.0\n",
      "The Cantera stoichiometric air-to-fuel ratio is: 16.79\n",
      "The theoritical stoichiometric air-to-fuel ratio is: 16.86\n",
      "Processing day 2.0\n",
      "The Cantera stoichiometric air-to-fuel ratio is: 16.79\n",
      "The theoritical stoichiometric air-to-fuel ratio is: 16.86\n",
      "Processing day 3.0\n",
      "The Cantera stoichiometric air-to-fuel ratio is: 16.79\n",
      "The theoritical stoichiometric air-to-fuel ratio is: 16.86\n",
      "Processing day 4.0\n",
      "The Cantera stoichiometric air-to-fuel ratio is: 16.79\n",
      "The theoritical stoichiometric air-to-fuel ratio is: 16.86\n",
      "Processing day 5.0\n",
      "The Cantera stoichiometric air-to-fuel ratio is: 16.28\n",
      "The theoritical stoichiometric air-to-fuel ratio is: 16.35\n",
      "Processing day 6.0\n",
      "The Cantera stoichiometric air-to-fuel ratio is: 16.79\n",
      "The theoritical stoichiometric air-to-fuel ratio is: 16.86\n",
      "Processing day 7.0\n",
      "The Cantera stoichiometric air-to-fuel ratio is: 16.79\n",
      "The theoritical stoichiometric air-to-fuel ratio is: 16.86\n",
      "Processing day 8.0\n",
      "The Cantera stoichiometric air-to-fuel ratio is: 16.79\n",
      "The theoritical stoichiometric air-to-fuel ratio is: 16.86\n",
      "Processing day 9.0\n",
      "The Cantera stoichiometric air-to-fuel ratio is: 16.79\n",
      "The theoritical stoichiometric air-to-fuel ratio is: 16.86\n",
      "Processing day 10.0\n",
      "The Cantera stoichiometric air-to-fuel ratio is: 15.90\n",
      "The theoritical stoichiometric air-to-fuel ratio is: 15.97\n",
      "Processing day 11.0\n",
      "The Cantera stoichiometric air-to-fuel ratio is: 16.79\n",
      "The theoritical stoichiometric air-to-fuel ratio is: 16.86\n",
      "Processing day 12.0\n",
      "The Cantera stoichiometric air-to-fuel ratio is: 16.79\n",
      "The theoritical stoichiometric air-to-fuel ratio is: 16.86\n",
      "Processing day 13.0\n",
      "The Cantera stoichiometric air-to-fuel ratio is: 16.79\n",
      "The theoritical stoichiometric air-to-fuel ratio is: 16.86\n",
      "Processing day 14.0\n",
      "The Cantera stoichiometric air-to-fuel ratio is: 16.79\n",
      "The theoritical stoichiometric air-to-fuel ratio is: 16.86\n",
      "Processing day 15.0\n",
      "The Cantera stoichiometric air-to-fuel ratio is: 15.90\n",
      "The theoritical stoichiometric air-to-fuel ratio is: 15.97\n",
      "Processing day 16.0\n",
      "The Cantera stoichiometric air-to-fuel ratio is: 16.79\n",
      "The theoritical stoichiometric air-to-fuel ratio is: 16.86\n",
      "Processing day 17.0\n",
      "The Cantera stoichiometric air-to-fuel ratio is: 16.79\n",
      "The theoritical stoichiometric air-to-fuel ratio is: 16.86\n",
      "Processing day 18.0\n",
      "The Cantera stoichiometric air-to-fuel ratio is: 16.79\n",
      "The theoritical stoichiometric air-to-fuel ratio is: 16.86\n",
      "Processing day 19.0\n",
      "The Cantera stoichiometric air-to-fuel ratio is: 16.79\n",
      "The theoritical stoichiometric air-to-fuel ratio is: 16.86\n",
      "Processing day 20.0\n",
      "The Cantera stoichiometric air-to-fuel ratio is: 16.28\n",
      "The theoritical stoichiometric air-to-fuel ratio is: 16.35\n",
      "Processing day 21.0\n",
      "The Cantera stoichiometric air-to-fuel ratio is: 16.79\n",
      "The theoritical stoichiometric air-to-fuel ratio is: 16.86\n",
      "Processing day 22.0\n",
      "The Cantera stoichiometric air-to-fuel ratio is: 16.79\n",
      "The theoritical stoichiometric air-to-fuel ratio is: 16.86\n",
      "Processing day 23.0\n",
      "The Cantera stoichiometric air-to-fuel ratio is: 16.79\n",
      "The theoritical stoichiometric air-to-fuel ratio is: 16.86\n",
      "Processing day 24.0\n",
      "The Cantera stoichiometric air-to-fuel ratio is: 16.79\n",
      "The theoritical stoichiometric air-to-fuel ratio is: 16.86\n",
      "Processing day 25.0\n",
      "The Cantera stoichiometric air-to-fuel ratio is: 15.90\n",
      "The theoritical stoichiometric air-to-fuel ratio is: 15.97\n",
      "Processing day 26.0\n",
      "The Cantera stoichiometric air-to-fuel ratio is: 16.79\n",
      "The theoritical stoichiometric air-to-fuel ratio is: 16.86\n",
      "Processing day 27.0\n",
      "The Cantera stoichiometric air-to-fuel ratio is: 16.79\n",
      "The theoritical stoichiometric air-to-fuel ratio is: 16.86\n",
      "Processing day 28.0\n",
      "The Cantera stoichiometric air-to-fuel ratio is: 16.79\n",
      "The theoritical stoichiometric air-to-fuel ratio is: 16.86\n",
      "Processing day 29.0\n",
      "The Cantera stoichiometric air-to-fuel ratio is: 16.79\n",
      "The theoritical stoichiometric air-to-fuel ratio is: 16.86\n",
      "Processing day 30.0\n",
      "The Cantera stoichiometric air-to-fuel ratio is: 16.28\n",
      "The theoritical stoichiometric air-to-fuel ratio is: 16.35\n",
      "\n",
      " Results saved in ./results/air_fuel_results.csv\n",
      "\n",
      "   Day  LHV_mix (J/kg)  MW_mix (g/mol)  AFR_stoich (kg_air/kg_fuel)  \\\n",
      "0  1.0    4.923950e+07        18.56786                    16.858520   \n",
      "1  2.0    4.923950e+07        18.56786                    16.858520   \n",
      "2  3.0    4.923950e+07        18.56786                    16.858520   \n",
      "3  4.0    4.923950e+07        18.56786                    16.858520   \n",
      "4  5.0    4.785902e+07        24.45920                    16.349753   \n",
      "\n",
      "   m_dot_fuel (kg/s)  m_dot_air (kg/s)  \n",
      "0           2.901271         97.822288  \n",
      "1           2.901271         97.822288  \n",
      "2           2.901271         97.822288  \n",
      "3           2.901271         97.822288  \n",
      "4           2.984957         97.606628  \n"
     ]
    }
   ],
   "source": [
    "# Compute mix LHV and stoichiometric AFR and masse rates\n",
    "for _, row in fuel_data.iterrows():\n",
    "    day = row[\"Day\"]\n",
    "    print(f\"Processing day {row['Day']}\")\n",
    "    fuels = {\n",
    "        \"CH4\": row[\"Methane\"],\n",
    "        \"C2H6\": row[\"Ethane\"],\n",
    "        \"C3H8\": row[\"Propane\"],\n",
    "        \"C4H10\": row[\"Butane\"],\n",
    "        \"NC5H12\": row[\"Pentane\"]\n",
    "    }\n",
    "\n",
    "    oxidizers = {\"O2\": 1.0, \"N2\": 3.76}\n",
    "    \n",
    "    # Mean mix molar mass [g/mol]\n",
    "    MW_mix = sum(fuels[sp]*MW[sp] for sp in fuels)\n",
    "    \n",
    "    # Mass Fractions\n",
    "    mass_fracs = {sp: (fuels[sp]*MW[sp])/MW_mix for sp in fuels}\n",
    "\n",
    "    # Mix LHV [J/kg]\n",
    "    LHV_mix = sum(mass_fracs[sp]*LHV[sp] for sp in fuels)\n",
    "\n",
    "    # Fuel Mass Rate [kg/s]\n",
    "    mdot_fuel = power_out / (eta * LHV_mix)\n",
    "    \n",
    "    # AFR: 2 Methods\n",
    "\n",
    "    # With Cantera function \n",
    "    # Calculate stoichiometric conditions (lambda = 1)\n",
    "    gas.set_equivalence_ratio(1.0, fuel=fuels, oxidizer=oxidizers)\n",
    "    AFR_cantera = gas.stoich_air_fuel_ratio(fuel=fuels, oxidizer=oxidizers, basis='mole')\n",
    "    print(f\"The Cantera stoichiometric air-to-fuel ratio is: {AFR_cantera:.2f}\")\n",
    "\n",
    "    # With equation presented in the Methodology part\n",
    "    # n_O2,i = x + y/4\n",
    "    n_O2 = {sp: (chem_formula[sp][0] + chem_formula[sp][1]/4.0) for sp in fuels}\n",
    "    # m_air_i = 4.76 * n_02,i * M_air\n",
    "    m_air_i = {sp: 4.76 * n_O2[sp] * M_air for sp in fuels}\n",
    "    # AFR_stoich = sum(x_i * m_air,i) / sum(x_i * M_i)\n",
    "    AFR_stoich = sum(fuels[sp] * m_air_i[sp] for sp in fuels) / sum(fuels[sp] * MW[sp] for sp in fuels) # kg air / kg fuel\n",
    "    print(f\"The theoritical stoichiometric air-to-fuel ratio is: {AFR_stoich:.2f}\")\n",
    "    \n",
    "    # Air Mass Rate [kg/s]\n",
    "    mdot_air = AFR_stoich * mdot_fuel * lambda_excess\n",
    "\n",
    "    results.append({\n",
    "        \"Day\": day,\n",
    "        \"LHV_mix (J/kg)\": LHV_mix,\n",
    "        \"MW_mix (g/mol)\": MW_mix,\n",
    "        \"AFR_stoich (kg_air/kg_fuel)\": AFR_stoich,\n",
    "        \"m_dot_fuel (kg/s)\": mdot_fuel,\n",
    "        \"m_dot_air (kg/s)\": mdot_air\n",
    "    })\n",
    "\n",
    "df_results = pd.DataFrame(results)\n",
    "os.makedirs(\"results\", exist_ok=True)\n",
    "df_results.to_csv(\"./results/air_fuel_results.csv\", index=False)\n",
    "\n",
    "print(\"\\n Results saved in ./results/air_fuel_results.csv\\n\")\n",
    "print(df_results.head())"
   ]
  },
  {
   "cell_type": "code",
   "execution_count": 27,
   "metadata": {},
   "outputs": [
    {
     "data": {
      "image/png": "[encoded data removed]",
      "text/plain": [
       "<Figure size 1000x1200 with 5 Axes>"
      ]
     },
     "metadata": {},
     "output_type": "display_data"
    }
   ],
   "source": [
    "df = df_results\n",
    "\n",
    "plt.figure(figsize=(10, 12))\n",
    "\n",
    "# LHV\n",
    "plt.subplot(5, 1, 1)\n",
    "plt.plot(df[\"Day\"], df[\"LHV_mix (J/kg)\"], \"o-\", color=\"tab:blue\")\n",
    "plt.ylabel(\"LHV (J/kg)\")\n",
    "plt.title(\"Fuel Property and Flow Evolution Over Days\")\n",
    "plt.grid(True)\n",
    "\n",
    "# MW\n",
    "plt.subplot(5, 1, 2)\n",
    "plt.plot(df[\"Day\"], df[\"MW_mix (g/mol)\"], \"s-\", color=\"tab:purple\")\n",
    "plt.ylabel(\"MW_mix (g/mol)\")\n",
    "plt.grid(True)\n",
    "\n",
    "# AFR_stoich\n",
    "plt.subplot(5, 1, 3)\n",
    "plt.plot(df[\"Day\"], df[\"AFR_stoich (kg_air/kg_fuel)\"], \"^-\", color=\"tab:orange\")\n",
    "plt.ylabel(\"AFR_stoich\")\n",
    "plt.grid(True)\n",
    "\n",
    "# Fuel mass flow\n",
    "plt.subplot(5, 1, 4)\n",
    "plt.plot(df[\"Day\"], df[\"m_dot_fuel (kg/s)\"], \"d-\", color=\"tab:green\")\n",
    "plt.ylabel(\"ṁ_fuel (kg/s)\")\n",
    "plt.grid(True)\n",
    "\n",
    "# Air mass flow\n",
    "plt.subplot(5, 1, 5)\n",
    "plt.plot(df[\"Day\"], df[\"m_dot_air (kg/s)\"], \"x-\", color=\"tab:red\")\n",
    "plt.ylabel(\"ṁ_air (kg/s)\")\n",
    "plt.xlabel(\"Day\")\n",
    "plt.grid(True)\n",
    "\n",
    "plt.tight_layout()\n",
    "plt.show()"
   ]
  },
  {
   "cell_type": "markdown",
   "metadata": {},
   "source": [
    "| Composition Type  | CH₄ (%) | C₂H₆ (%) | C₃H₈ (%) | C₄H₁₀ (%) | C₅H₁₂ (%) | LHV_mix (MJ/kg) | MW_mix (g/mol) | AFR_stoich (kg_air/kg_fuel) | ṁ_fuel (kg/s) | ṁ_air (kg/s) |\n",
    "| ----------------- | ------- | -------- | -------- | --------- | --------- | --------------- | -------------- | --------------------------- | -------------- | ------------- |\n",
    "| **Natural Gas**   | 90      | 5        | 3        | 1         | 1         | **49.24**       | 18.57          | **16.86**                   | **2.90**       | **97.82**     |\n",
    "| **Butane Spike**  | 76      | 5        | 3        | 15        | 1         | **47.86**       | 24.46          | **16.35**                   | **2.98**       | **97.61**     |\n",
    "| **Pentane Spike** | 66      | 5        | 3        | 1         | 25        | **47.07**       | 32.03          | **15.97**                   | **3.03**       | **96.94**     |\n"
   ]
  },
  {
   "cell_type": "markdown",
   "metadata": {},
   "source": [
    "**Impact of Pentane and Butane spikes on Combustion and Autoignition**\n",
    "\n",
    "**Molecular Weight $MW_{mix}$**\n",
    "\n",
    "The rise in heavier hydrocarbons (Butane, Pentane) → larger molecular weight (C₄–C₅)\n",
    "→ Increases $MW_{mix}$ (18.6 → 32 g/mol)\n",
    "→ Produces denser, and more chemically reactive mixtures that burns slower.\n",
    "\n",
    "---\n",
    "**Lower $LHV_{mix}$**\n",
    "\n",
    "Decrease in **Lower Heating Value** (LHV_mix)\n",
    "→ Decreases from 49.24 to 47.86 and 47.07 MJ/kg\n",
    "→ Less energy per unit mass → turbine requires slightly more fuel to sustain 60 MW\n",
    "→ Rise in **fuel mass flow rate** (ṁ_fuel, 2.90 → 2.98 and 3.03 kg/s)\n",
    "\n",
    "---\n",
    "**$AFR_{stoich}$**\n",
    "\n",
    "Decrease in stoichiometric **Air–Fuel Ratio** (AFR_stoich)\n",
    "→ Falls from 16.9 → 16.0 kg_air/kg_fuel\n",
    "→ For the same **excess air factor (λ = 2.0)**, the **local equivalence ratio** can change and potentially create **rich zones** inside the premixer.  \n",
    "→ Richer regions → **higher local flame temperatures** → **faster radical formation** → **greater likelihood of premature ignition**.\n",
    "\n",
    "---\n",
    "**$\\dot{m}_{air}$**\n",
    "\n",
    "- **Decreases slightly** from **~97.8 → 97.6 → 96.9 kg/s** as heavier hydrocarbons reduce the air required per kilogram of fuel (they have a higher energy and atoms per molecule ratio, so less air mass is needed per kilogram of fuel to fully oxidize all carbon and hydrogen).  \n",
    "- Even though the turbine maintains the same power output, this can create **non-uniform air–fuel distributions**, amplifying **local ignition risks**.\n",
    "\n",
    "---\n",
    "**$\\dot{m}_{fuel}$**\n",
    "\n",
    "Increase in **fuel mass flow** (2.901 → 2.985 and 3.035 kg/s)\n",
    "Because during spikes, the turbine needs to inject more fuel to maintain the same power because the HHCs have slightly lower LHV per kg than methane.\n",
    "→ Richer mix because the air flow does not increase proportionally (it actually decreases during the spikes)\n",
    "→ Creates richer fuel-air pockets in the premixer\n",
    "→ May increase local temperatures because there is more available fuel to release energy\n",
    "→ Increased risk of autoignition."
   ]
  },
  {
   "cell_type": "markdown",
   "metadata": {},
   "source": [
    "### Part II: Sensitivity to Chemical Mechanism"
   ]
  },
  {
   "cell_type": "markdown",
   "metadata": {},
   "source": [
    "#### Introduction"
   ]
  },
  {
   "cell_type": "markdown",
   "metadata": {},
   "source": [
    "We previously computed the ignition delays and focused on the different fuel compositions as well as their impact on the delays. In this part, we will focus on the impact of different chemical mechanisms on these delays. "
   ]
  },
  {
   "cell_type": "markdown",
   "metadata": {},
   "source": [
    "#### Methodology"
   ]
  },
  {
   "cell_type": "markdown",
   "metadata": {},
   "source": [
    "We will simulate the ignition delays in the same manner as in the previous part for the following chemical mechanisms : NUIG 1.3, ARAMCO 3 and CRECK (C3MechLite). However, as pentane is not found in ARAMCO 3, we will lump all the higher hydrocarbons into the highest one this mechanism can accomodate. We will then discuss the impact of the lumping. The NUIG 1.3 and CRECK mechanisms, which include n-pentane (NC5H12), will be used for comparison."
   ]
  },
  {
   "cell_type": "code",
   "execution_count": 4,
   "metadata": {},
   "outputs": [],
   "source": [
    "import cantera as ct\n",
    "import numpy as np\n",
    "import pandas as pd\n",
    "import plotly.graph_objs as go\n",
    "import plotly.offline as py"
   ]
  },
  {
   "cell_type": "code",
   "execution_count": null,
   "metadata": {},
   "outputs": [],
   "source": [
    "# Chosen Parameters\n",
    "\n",
    "P_bar = 40.0\n",
    "T_preheat = 890.0\n",
    "phi = 0.625\n",
    "res_time_range_ms = (2, 20)\n",
    "max_sim_time = 0.1\n",
    "oxidizer = {\"O2\": 1, \"N2\": 3.76}"
   ]
  },
  {
   "cell_type": "code",
   "execution_count": null,
   "metadata": {},
   "outputs": [],
   "source": [
    "# Mechanisms\n",
    "\n",
    "mechanisms = {\n",
    "    \"NUIG 1.3\": \"nuig_3005.yaml\",\n",
    "    \"ARAMCO 3\": \"aramco3.yaml\",\n",
    "    \"CRECK (C3MechLite)\": \"CRECK_2003_TOT_HT_LT.yaml\",\n",
    "}"
   ]
  },
  {
   "cell_type": "code",
   "execution_count": null,
   "metadata": {},
   "outputs": [],
   "source": [
    "# Read composition file \n",
    "\n",
    "fuel_data = pd.read_csv(\"fuel_composition.csv\")\n",
    "fuel_columns = fuel_data.columns[1:]\n",
    "fuel_data[fuel_columns] /= 100.0"
   ]
  },
  {
   "cell_type": "code",
   "execution_count": null,
   "metadata": {},
   "outputs": [],
   "source": [
    "# Select representative days (Natural gas, pentane spike, butane spike)\n",
    "\n",
    "def get_day_fuel(day):\n",
    "    row = fuel_data[fuel_data[\"Day\"] == day].iloc[0]\n",
    "    return {\n",
    "        \"CH4\": row[\"Methane\"],\n",
    "        \"C2H6\": row[\"Ethane\"],\n",
    "        \"C3H8\": row[\"Propane\"],\n",
    "        \"C4H10\": row[\"Butane\"],\n",
    "        \"NC5H12\": row[\"Pentane\"],\n",
    "    }\n",
    "\n",
    "fuel_cases = {\n",
    "    \"Pentane Spike\": get_day_fuel(10),\n",
    "    \"Butane Spike\": get_day_fuel(5),\n",
    "    \"Natural Gas\": get_day_fuel(1),\n",
    "}\n",
    "\n",
    "cached_mechs = {name: ct.Solution(path) for name, path in mechanisms.items()}"
   ]
  },
  {
   "cell_type": "code",
   "execution_count": null,
   "metadata": {},
   "outputs": [],
   "source": [
    "# Functions\n",
    "\n",
    "def adapt_fuel_for_mechanism(gas, base_fuel):\n",
    "    \"\"\"Lump species not present in mechanism (e.g. NC5H12 -> C4H10).\"\"\"\n",
    "    species = gas.species_names\n",
    "    fuel_dict = {}\n",
    "    for sp, val in base_fuel.items():\n",
    "        if val <= 0:\n",
    "            continue\n",
    "        if sp in species:\n",
    "            fuel_dict[sp] = val\n",
    "        elif sp == \"NC5H12\":\n",
    "            if \"C4H10\" in species:\n",
    "                fuel_dict[\"C4H10\"] = fuel_dict.get(\"C4H10\", 0.0) + val\n",
    "            elif \"C3H8\" in species:\n",
    "                fuel_dict[\"C3H8\"] = fuel_dict.get(\"C3H8\", 0.0) + val\n",
    "            else:\n",
    "                fuel_dict[\"CH4\"] = fuel_dict.get(\"CH4\", 0.0) + val\n",
    "    return fuel_dict\n",
    "\n",
    "\n",
    "def ignition_delay(gas, fuel_dict):\n",
    "    \"\"\"Compute ignition delay for given mechanism and fuel.\"\"\"\n",
    "    gas.TP = T_preheat, P_bar * 1e5\n",
    "    gas.set_equivalence_ratio(phi, fuel_dict, oxidizer)\n",
    "    r = ct.IdealGasConstPressureMoleReactor(gas)\n",
    "    sim = ct.ReactorNet([r])\n",
    "    T_init = r.T\n",
    "    t = 0.0\n",
    "\n",
    "    while t < max_sim_time:\n",
    "        t = sim.step()\n",
    "        if (r.T - T_init) > 400:  # ignition criterion\n",
    "            ignition_time = t * 1000  # ms\n",
    "            break\n",
    "    else:\n",
    "        ignition_time = np.nan\n",
    "\n",
    "    return ignition_time"
   ]
  },
  {
   "cell_type": "code",
   "execution_count": null,
   "metadata": {},
   "outputs": [],
   "source": [
    "# Ignition simulation\n",
    "\n",
    "results = []\n",
    "\n",
    "for mech_name, gas in cached_mechs.items():\n",
    "    for case_name, fuel_dict in fuel_cases.items():\n",
    "        adapted_fuel = adapt_fuel_for_mechanism(gas, fuel_dict)\n",
    "        tau_ms = ignition_delay(gas, adapted_fuel)\n",
    "\n",
    "        if np.isnan(tau_ms):\n",
    "            risk = \"No ignition\"\n",
    "        elif tau_ms <= res_time_range_ms[1]:\n",
    "            risk = \"Possible autoignition (τ ≤ 20 ms)\"\n",
    "        else:\n",
    "            risk = \"No autoignition (τ > 20 ms)\"\n",
    "\n",
    "        results.append({\n",
    "            \"Mechanism\": mech_name,\n",
    "            \"Case\": case_name,\n",
    "            \"Ignition Delay (ms)\": tau_ms,\n",
    "            \"Risk\": risk\n",
    "        })\n",
    "\n",
    "# Results\n",
    "df_results_all = pd.DataFrame(results)\n",
    "df_results_all.to_csv(\"ignition_mechanism_comparison_all_cases.csv\", index=False)\n",
    "print(df_results_all)"
   ]
  },
  {
   "cell_type": "code",
   "execution_count": 2,
   "metadata": {},
   "outputs": [
    {
     "name": "stdout",
     "output_type": "stream",
     "text": [
      "            Mechanism           Case  Ignition Delay (ms)  \\\n",
      "0            NUIG 1.3  Pentane Spike             2.785712   \n",
      "1            NUIG 1.3   Butane Spike             9.356303   \n",
      "2            NUIG 1.3    Natural Gas            26.013779   \n",
      "3            ARAMCO 3  Pentane Spike            11.083204   \n",
      "4            ARAMCO 3   Butane Spike            14.662690   \n",
      "5            ARAMCO 3    Natural Gas            34.771269   \n",
      "6  CRECK (C3MechLite)  Pentane Spike             5.714775   \n",
      "7  CRECK (C3MechLite)   Butane Spike            35.652791   \n",
      "8  CRECK (C3MechLite)    Natural Gas            37.557317   \n",
      "\n",
      "                                Risk  \n",
      "0  Possible autoignition (τ ≤ 20 ms)  \n",
      "1  Possible autoignition (τ ≤ 20 ms)  \n",
      "2        No autoignition (τ > 20 ms)  \n",
      "3  Possible autoignition (τ ≤ 20 ms)  \n",
      "4  Possible autoignition (τ ≤ 20 ms)  \n",
      "5        No autoignition (τ > 20 ms)  \n",
      "6  Possible autoignition (τ ≤ 20 ms)  \n",
      "7        No autoignition (τ > 20 ms)  \n",
      "8        No autoignition (τ > 20 ms)  \n"
     ]
    },
    {
     "data": {
      "application/vnd.plotly.v1+json": {
       "config": {
        "linkText": "Export to plot.ly",
        "plotlyServerURL": "https://plot.ly",
        "showLink": false
       },
       "data": [
        {
         "marker": {
          "color": "red",
          "size": 12,
          "symbol": "circle"
         },
         "mode": "markers+lines+text",
         "name": "Pentane Spike",
         "text": {
          "bdata": "UrgehetRBkApXI/C9SgmQNejcD0K1xZA",
          "dtype": "f8"
         },
         "textposition": "top center",
         "type": "scatter",
         "x": [
          "NUIG 1.3",
          "ARAMCO 3",
          "CRECK (C3MechLite)"
         ],
         "y": {
          "bdata": "SddSciNJBkC+/57DmSomQL9ppQ7u2xZA",
          "dtype": "f8"
         }
        },
        {
         "marker": {
          "color": "orange",
          "size": 12,
          "symbol": "diamond"
         },
         "mode": "markers+lines+text",
         "name": "Butane Spike",
         "text": {
          "bdata": "uB6F61G4IkBSuB6F61EtQDMzMzMz00FA",
          "dtype": "f8"
         },
         "textposition": "top center",
         "type": "scatter",
         "x": [
          "NUIG 1.3",
          "ARAMCO 3",
          "CRECK (C3MechLite)"
         ],
         "y": {
          "bdata": "2JViaG22IkBk4hsMTFMtQJwC9qeO00FA",
          "dtype": "f8"
         }
        },
        {
         "marker": {
          "color": "blue",
          "size": 12,
          "symbol": "square"
         },
         "mode": "markers+lines+text",
         "name": "Natural Gas",
         "text": {
          "bdata": "w/UoXI8COkDD9Shcj2JBQEjhehSux0JA",
          "dtype": "f8"
         },
         "textposition": "top center",
         "type": "scatter",
         "x": [
          "NUIG 1.3",
          "ARAMCO 3",
          "CRECK (C3MechLite)"
         ],
         "y": {
          "bdata": "1w6oAYcDOkBiBn/xuGJBQEOI/ShWx0JA",
          "dtype": "f8"
         }
        }
       ],
       "layout": {
        "height": 600,
        "paper_bgcolor": "white",
        "plot_bgcolor": "white",
        "showlegend": true,
        "template": {
         "data": {
          "bar": [
           {
            "error_x": {
             "color": "#2a3f5f"
            },
            "error_y": {
             "color": "#2a3f5f"
            },
            "marker": {
             "line": {
              "color": "#E5ECF6",
              "width": 0.5
             },
             "pattern": {
              "fillmode": "overlay",
              "size": 10,
              "solidity": 0.2
             }
            },
            "type": "bar"
           }
          ],
          "barpolar": [
           {
            "marker": {
             "line": {
              "color": "#E5ECF6",
              "width": 0.5
             },
             "pattern": {
              "fillmode": "overlay",
              "size": 10,
              "solidity": 0.2
             }
            },
            "type": "barpolar"
           }
          ],
          "carpet": [
           {
            "aaxis": {
             "endlinecolor": "#2a3f5f",
             "gridcolor": "white",
             "linecolor": "white",
             "minorgridcolor": "white",
             "startlinecolor": "#2a3f5f"
            },
            "baxis": {
             "endlinecolor": "#2a3f5f",
             "gridcolor": "white",
             "linecolor": "white",
             "minorgridcolor": "white",
             "startlinecolor": "#2a3f5f"
            },
            "type": "carpet"
           }
          ],
          "choropleth": [
           {
            "colorbar": {
             "outlinewidth": 0,
             "ticks": ""
            },
            "type": "choropleth"
           }
          ],
          "contour": [
           {
            "colorbar": {
             "outlinewidth": 0,
             "ticks": ""
            },
            "colorscale": [
             [
              0,
              "#0d0887"
             ],
             [
              0.1111111111111111,
              "#46039f"
             ],
             [
              0.2222222222222222,
              "#7201a8"
             ],
             [
              0.3333333333333333,
              "#9c179e"
             ],
             [
              0.4444444444444444,
              "#bd3786"
             ],
             [
              0.5555555555555556,
              "#d8576b"
             ],
             [
              0.6666666666666666,
              "#ed7953"
             ],
             [
              0.7777777777777778,
              "#fb9f3a"
             ],
             [
              0.8888888888888888,
              "#fdca26"
             ],
             [
              1,
              "#f0f921"
             ]
            ],
            "type": "contour"
           }
          ],
          "contourcarpet": [
           {
            "colorbar": {
             "outlinewidth": 0,
             "ticks": ""
            },
            "type": "contourcarpet"
           }
          ],
          "heatmap": [
           {
            "colorbar": {
             "outlinewidth": 0,
             "ticks": ""
            },
            "colorscale": [
             [
              0,
              "#0d0887"
             ],
             [
              0.1111111111111111,
              "#46039f"
             ],
             [
              0.2222222222222222,
              "#7201a8"
             ],
             [
              0.3333333333333333,
              "#9c179e"
             ],
             [
              0.4444444444444444,
              "#bd3786"
             ],
             [
              0.5555555555555556,
              "#d8576b"
             ],
             [
              0.6666666666666666,
              "#ed7953"
             ],
             [
              0.7777777777777778,
              "#fb9f3a"
             ],
             [
              0.8888888888888888,
              "#fdca26"
             ],
             [
              1,
              "#f0f921"
             ]
            ],
            "type": "heatmap"
           }
          ],
          "histogram": [
           {
            "marker": {
             "pattern": {
              "fillmode": "overlay",
              "size": 10,
              "solidity": 0.2
             }
            },
            "type": "histogram"
           }
          ],
          "histogram2d": [
           {
            "colorbar": {
             "outlinewidth": 0,
             "ticks": ""
            },
            "colorscale": [
             [
              0,
              "#0d0887"
             ],
             [
              0.1111111111111111,
              "#46039f"
             ],
             [
              0.2222222222222222,
              "#7201a8"
             ],
             [
              0.3333333333333333,
              "#9c179e"
             ],
             [
              0.4444444444444444,
              "#bd3786"
             ],
             [
              0.5555555555555556,
              "#d8576b"
             ],
             [
              0.6666666666666666,
              "#ed7953"
             ],
             [
              0.7777777777777778,
              "#fb9f3a"
             ],
             [
              0.8888888888888888,
              "#fdca26"
             ],
             [
              1,
              "#f0f921"
             ]
            ],
            "type": "histogram2d"
           }
          ],
          "histogram2dcontour": [
           {
            "colorbar": {
             "outlinewidth": 0,
             "ticks": ""
            },
            "colorscale": [
             [
              0,
              "#0d0887"
             ],
             [
              0.1111111111111111,
              "#46039f"
             ],
             [
              0.2222222222222222,
              "#7201a8"
             ],
             [
              0.3333333333333333,
              "#9c179e"
             ],
             [
              0.4444444444444444,
              "#bd3786"
             ],
             [
              0.5555555555555556,
              "#d8576b"
             ],
             [
              0.6666666666666666,
              "#ed7953"
             ],
             [
              0.7777777777777778,
              "#fb9f3a"
             ],
             [
              0.8888888888888888,
              "#fdca26"
             ],
             [
              1,
              "#f0f921"
             ]
            ],
            "type": "histogram2dcontour"
           }
          ],
          "mesh3d": [
           {
            "colorbar": {
             "outlinewidth": 0,
             "ticks": ""
            },
            "type": "mesh3d"
           }
          ],
          "parcoords": [
           {
            "line": {
             "colorbar": {
              "outlinewidth": 0,
              "ticks": ""
             }
            },
            "type": "parcoords"
           }
          ],
          "pie": [
           {
            "automargin": true,
            "type": "pie"
           }
          ],
          "scatter": [
           {
            "fillpattern": {
             "fillmode": "overlay",
             "size": 10,
             "solidity": 0.2
            },
            "type": "scatter"
           }
          ],
          "scatter3d": [
           {
            "line": {
             "colorbar": {
              "outlinewidth": 0,
              "ticks": ""
             }
            },
            "marker": {
             "colorbar": {
              "outlinewidth": 0,
              "ticks": ""
             }
            },
            "type": "scatter3d"
           }
          ],
          "scattercarpet": [
           {
            "marker": {
             "colorbar": {
              "outlinewidth": 0,
              "ticks": ""
             }
            },
            "type": "scattercarpet"
           }
          ],
          "scattergeo": [
           {
            "marker": {
             "colorbar": {
              "outlinewidth": 0,
              "ticks": ""
             }
            },
            "type": "scattergeo"
           }
          ],
          "scattergl": [
           {
            "marker": {
             "colorbar": {
              "outlinewidth": 0,
              "ticks": ""
             }
            },
            "type": "scattergl"
           }
          ],
          "scattermap": [
           {
            "marker": {
             "colorbar": {
              "outlinewidth": 0,
              "ticks": ""
             }
            },
            "type": "scattermap"
           }
          ],
          "scattermapbox": [
           {
            "marker": {
             "colorbar": {
              "outlinewidth": 0,
              "ticks": ""
             }
            },
            "type": "scattermapbox"
           }
          ],
          "scatterpolar": [
           {
            "marker": {
             "colorbar": {
              "outlinewidth": 0,
              "ticks": ""
             }
            },
            "type": "scatterpolar"
           }
          ],
          "scatterpolargl": [
           {
            "marker": {
             "colorbar": {
              "outlinewidth": 0,
              "ticks": ""
             }
            },
            "type": "scatterpolargl"
           }
          ],
          "scatterternary": [
           {
            "marker": {
             "colorbar": {
              "outlinewidth": 0,
              "ticks": ""
             }
            },
            "type": "scatterternary"
           }
          ],
          "surface": [
           {
            "colorbar": {
             "outlinewidth": 0,
             "ticks": ""
            },
            "colorscale": [
             [
              0,
              "#0d0887"
             ],
             [
              0.1111111111111111,
              "#46039f"
             ],
             [
              0.2222222222222222,
              "#7201a8"
             ],
             [
              0.3333333333333333,
              "#9c179e"
             ],
             [
              0.4444444444444444,
              "#bd3786"
             ],
             [
              0.5555555555555556,
              "#d8576b"
             ],
             [
              0.6666666666666666,
              "#ed7953"
             ],
             [
              0.7777777777777778,
              "#fb9f3a"
             ],
             [
              0.8888888888888888,
              "#fdca26"
             ],
             [
              1,
              "#f0f921"
             ]
            ],
            "type": "surface"
           }
          ],
          "table": [
           {
            "cells": {
             "fill": {
              "color": "#EBF0F8"
             },
             "line": {
              "color": "white"
             }
            },
            "header": {
             "fill": {
              "color": "#C8D4E3"
             },
             "line": {
              "color": "white"
             }
            },
            "type": "table"
           }
          ]
         },
         "layout": {
          "annotationdefaults": {
           "arrowcolor": "#2a3f5f",
           "arrowhead": 0,
           "arrowwidth": 1
          },
          "autotypenumbers": "strict",
          "coloraxis": {
           "colorbar": {
            "outlinewidth": 0,
            "ticks": ""
           }
          },
          "colorscale": {
           "diverging": [
            [
             0,
             "#8e0152"
            ],
            [
             0.1,
             "#c51b7d"
            ],
            [
             0.2,
             "#de77ae"
            ],
            [
             0.3,
             "#f1b6da"
            ],
            [
             0.4,
             "#fde0ef"
            ],
            [
             0.5,
             "#f7f7f7"
            ],
            [
             0.6,
             "#e6f5d0"
            ],
            [
             0.7,
             "#b8e186"
            ],
            [
             0.8,
             "#7fbc41"
            ],
            [
             0.9,
             "#4d9221"
            ],
            [
             1,
             "#276419"
            ]
           ],
           "sequential": [
            [
             0,
             "#0d0887"
            ],
            [
             0.1111111111111111,
             "#46039f"
            ],
            [
             0.2222222222222222,
             "#7201a8"
            ],
            [
             0.3333333333333333,
             "#9c179e"
            ],
            [
             0.4444444444444444,
             "#bd3786"
            ],
            [
             0.5555555555555556,
             "#d8576b"
            ],
            [
             0.6666666666666666,
             "#ed7953"
            ],
            [
             0.7777777777777778,
             "#fb9f3a"
            ],
            [
             0.8888888888888888,
             "#fdca26"
            ],
            [
             1,
             "#f0f921"
            ]
           ],
           "sequentialminus": [
            [
             0,
             "#0d0887"
            ],
            [
             0.1111111111111111,
             "#46039f"
            ],
            [
             0.2222222222222222,
             "#7201a8"
            ],
            [
             0.3333333333333333,
             "#9c179e"
            ],
            [
             0.4444444444444444,
             "#bd3786"
            ],
            [
             0.5555555555555556,
             "#d8576b"
            ],
            [
             0.6666666666666666,
             "#ed7953"
            ],
            [
             0.7777777777777778,
             "#fb9f3a"
            ],
            [
             0.8888888888888888,
             "#fdca26"
            ],
            [
             1,
             "#f0f921"
            ]
           ]
          },
          "colorway": [
           "#636efa",
           "#EF553B",
           "#00cc96",
           "#ab63fa",
           "#FFA15A",
           "#19d3f3",
           "#FF6692",
           "#B6E880",
           "#FF97FF",
           "#FECB52"
          ],
          "font": {
           "color": "#2a3f5f"
          },
          "geo": {
           "bgcolor": "white",
           "lakecolor": "white",
           "landcolor": "#E5ECF6",
           "showlakes": true,
           "showland": true,
           "subunitcolor": "white"
          },
          "hoverlabel": {
           "align": "left"
          },
          "hovermode": "closest",
          "mapbox": {
           "style": "light"
          },
          "paper_bgcolor": "white",
          "plot_bgcolor": "#E5ECF6",
          "polar": {
           "angularaxis": {
            "gridcolor": "white",
            "linecolor": "white",
            "ticks": ""
           },
           "bgcolor": "#E5ECF6",
           "radialaxis": {
            "gridcolor": "white",
            "linecolor": "white",
            "ticks": ""
           }
          },
          "scene": {
           "xaxis": {
            "backgroundcolor": "#E5ECF6",
            "gridcolor": "white",
            "gridwidth": 2,
            "linecolor": "white",
            "showbackground": true,
            "ticks": "",
            "zerolinecolor": "white"
           },
           "yaxis": {
            "backgroundcolor": "#E5ECF6",
            "gridcolor": "white",
            "gridwidth": 2,
            "linecolor": "white",
            "showbackground": true,
            "ticks": "",
            "zerolinecolor": "white"
           },
           "zaxis": {
            "backgroundcolor": "#E5ECF6",
            "gridcolor": "white",
            "gridwidth": 2,
            "linecolor": "white",
            "showbackground": true,
            "ticks": "",
            "zerolinecolor": "white"
           }
          },
          "shapedefaults": {
           "line": {
            "color": "#2a3f5f"
           }
          },
          "ternary": {
           "aaxis": {
            "gridcolor": "white",
            "linecolor": "white",
            "ticks": ""
           },
           "baxis": {
            "gridcolor": "white",
            "linecolor": "white",
            "ticks": ""
           },
           "bgcolor": "#E5ECF6",
           "caxis": {
            "gridcolor": "white",
            "linecolor": "white",
            "ticks": ""
           }
          },
          "title": {
           "x": 0.05
          },
          "xaxis": {
           "automargin": true,
           "gridcolor": "white",
           "linecolor": "white",
           "ticks": "",
           "title": {
            "standoff": 15
           },
           "zerolinecolor": "white",
           "zerolinewidth": 2
          },
          "yaxis": {
           "automargin": true,
           "gridcolor": "white",
           "linecolor": "white",
           "ticks": "",
           "title": {
            "standoff": 15
           },
           "zerolinecolor": "white",
           "zerolinewidth": 2
          }
         }
        },
        "title": {
         "text": "Ignition Delay vs Mechanism for Different Fuel Compositions"
        },
        "width": 900,
        "xaxis": {
         "title": {
          "text": "Mechanism"
         }
        },
        "yaxis": {
         "title": {
          "text": "Ignition Delay (ms)"
         },
         "type": "log"
        }
       }
      }
     },
     "metadata": {},
     "output_type": "display_data"
    }
   ],
   "source": [
    "# Plot\n",
    "\n",
    "colors = {\"Pentane Spike\": \"red\", \"Butane Spike\": \"orange\", \"Natural Gas\": \"blue\"}\n",
    "symbols = {\"Pentane Spike\": \"circle\", \"Butane Spike\": \"diamond\", \"Natural Gas\": \"square\"}\n",
    "\n",
    "traces = []\n",
    "for case_name in df_results_all[\"Case\"].unique():\n",
    "    subset = df_results_all[df_results_all[\"Case\"] == case_name]\n",
    "    trace = go.Scatter(\n",
    "        x=subset[\"Mechanism\"],\n",
    "        y=subset[\"Ignition Delay (ms)\"],\n",
    "        mode=\"markers+lines+text\",\n",
    "        name=case_name,\n",
    "        text=subset[\"Ignition Delay (ms)\"].round(2),\n",
    "        textposition=\"top center\",\n",
    "        marker=dict(color=colors[case_name], symbol=symbols[case_name], size=12),\n",
    "    )\n",
    "    traces.append(trace)\n",
    "\n",
    "layout = go.Layout(\n",
    "    title=\"Ignition Delay vs Mechanism for Different Fuel Compositions\",\n",
    "    xaxis=dict(title=\"Mechanism\"),\n",
    "    yaxis=dict(title=\"Ignition Delay (ms)\", type=\"log\"),\n",
    "    width=900,\n",
    "    height=600,\n",
    "    paper_bgcolor=\"white\",\n",
    "    plot_bgcolor=\"white\",\n",
    "    showlegend=True,\n",
    ")\n",
    "\n",
    "fig = go.Figure(data=traces, layout=layout)\n",
    "py.iplot(fig)"
   ]
  },
  {
   "cell_type": "markdown",
   "metadata": {},
   "source": [
    "#### Results and Discussions"
   ]
  },
  {
   "cell_type": "markdown",
   "metadata": {},
   "source": [
    "**Premixer & Probability Assumptions**\n",
    "- Residence time: **2–20 ms**, assumed **uniform distribution**.  \n",
    "- Autoignition probability for a fuel pocket:  \n",
    "\n",
    "$$\n",
    "P(\\text{autoignition}) =\n",
    "\\begin{cases}\n",
    "1, & \\tau \\le 2 \\text{ ms} \\\\\n",
    "\\dfrac{20 - \\tau}{18}, & 2 < \\tau < 20 \\\\\n",
    "0, & \\tau \\ge 20\n",
    "\\end{cases}\n",
    "$$\n",
    "\n",
    "| Mechanism | Case | τ (ms) | Autoignition Probability |\n",
    "|-----------|------|--------|-------------------------|\n",
    "| NUIG 1.3 | Pentane spike | 2.79 | 95.6% → almost certain |\n",
    "| NUIG 1.3 | Butane spike  | 9.36 | 59.1% → moderate risk |\n",
    "| NUIG 1.3 | Natural gas    | 26.01 | 0% → safe |\n",
    "| ARAMCO 3 | Pentane spike  | 11.08 | 49.5% → moderate risk |\n",
    "| ARAMCO 3 | Butane spike   | 14.66 | 29.7% → low-moderate risk |\n",
    "| ARAMCO 3 | Natural gas    | 34.77 | 0% → safe |\n",
    "| CRECK     | Pentane spike | 5.71 | 79.4% → high risk |\n",
    "| CRECK     | Butane spike  | 35.65 | 0% → safe |\n",
    "| CRECK     | Natural gas    | 37.56 | 0% → safe |\n",
    "\n",
    "---\n",
    "\n",
    "**Mechanism Sensitivity & Analysis**\n",
    "\n",
    "- **NUIG 1.3**\n",
    "  - Explicitly includes **C₄–C₅ hydrocarbons** (n- and iso-isomers).  \n",
    "  - Captures **low-temperature chain branching**:\n",
    "    - RO₂ → QOOH → ketohydroperoxide (KHP) + OH → rapid radical production → short τ.\n",
    "    - Coherent with the values: Pentane spike τ = **2.79 ms**, Butane spike τ = **9.36 ms**.\n",
    "  - Predicts shortest τ → **highest autoignition probability** → closest to real DLE behavior.  \n",
    "\n",
    "- **ARAMCO 3**\n",
    "  - **Lumps heavy hydrocarbons** (C₄–C₅) into lighter surrogates.  \n",
    "  - Low-temperature oxidation pathways are simplified or removed → fewer radicals generated, slower chain branching → longer τ.\n",
    "  - Observed values: Pentane spike τ = **11.08 ms**, Butane spike τ = **14.66 ms**.\n",
    "  - **Underpredicts autoignition risk** because lumping omits the RO₂ → QOOH → KHP loops important for C₄–C₅ reactivity.\n",
    "\n",
    "- **CRECK (C3MechLite)**\n",
    "  - Reduced mechanism optimized for **C₁–C₃ chemistry**.  \n",
    "  - **Pentane spike τ = 5.71 ms**: pentane is extremely reactive; even reduced C₁–C₃ chemistry captures short ignition delay → relatively accurate.  \n",
    "  - **Butane spike τ = 35.65 ms**: low-temperature pathways for C₄ species are mostly absent → τ overestimated → autoignition probability underestimated.  \n",
    "  - τ(NG) = **37.56 ms** > τ(Butane) = **35.65 ms** >> τ(Pentane) = **5.71 ms**.  \n",
    "  - CRECK is better than ARAMCO for pentane (highly reactive, short τ), but fails for butane (moderately reactive, low-T chemistry missing).\n",
    "\n",
    "> Lumping or reducing C₄–C₅ chemistry removes **low-temperature RO₂–QOOH–KHP loops**, which dominate ignition at 850–900 K. Without them, mechanisms **overestimate τ** → underestimate in-premixer autoignition probability.\n",
    "\n",
    "---\n",
    "\n",
    "**Best Mechanism**\n",
    "- **NUIG 1.3** is best suited for this application:\n",
    "  - Explicitly treats C₄–C₅ hydrocarbons and isomers.  \n",
    "  - Captures **low-temperature chain-branching chemistry** → accurate τ predictions.  \n",
    "  - Reliable assessment of **autoignition probability** for pentane/butane spikes.  \n",
    "- **Avoid lumped/reduced mechanisms** (ARAMCO 3, CRECK).\n",
    "\n",
    "---\n",
    "\n",
    "**Summary**\n",
    "- Low-temperature oxidation loops (RO₂ → QOOH → KHP + OH) are **critical for heavy hydrocarbon reactivity**.  \n",
    "- Mechanism choice strongly affects predicted autoignition probability:  \n",
    "  - **NUIG 1.3** gives the most accurate predictions.  \n",
    "  - **CRECK** is acceptable for highly reactive pentane, but fails for butane.  \n",
    "  - **ARAMCO 3** consistently underestimates risk due to lumping.  "
   ]
  },
  {
   "cell_type": "markdown",
   "metadata": {},
   "source": [
    "## Effect of air staging for aero-derivative turbine"
   ]
  },
  {
   "cell_type": "markdown",
   "metadata": {},
   "source": [
    "### Part I "
   ]
  },
  {
   "cell_type": "markdown",
   "metadata": {},
   "source": [
    "#### Introduction"
   ]
  },
  {
   "cell_type": "markdown",
   "metadata": {},
   "source": [
    "The goal of this part is to study the effect of air staging (here modelized by an 0D perfectly stirred model) on the emissions of pollutants (CO, NOX, UHC...) for an aero-derivative turbine. \n",
    "In this study, we investigate the combustion behavior of methane–air mixtures in an aero-derivative gas turbine combustor under high-pressure conditions.  \n",
    "\n",
    "The objective is to understand how the combustor behaves under realistic residence times and staging configurations, and how pollutant emissions (CO, NOₓ, unburned CH₄) are influenced by combustion completeness."
   ]
  },
  {
   "cell_type": "markdown",
   "metadata": {},
   "source": [
    "#### Methodology"
   ]
  },
  {
   "cell_type": "markdown",
   "metadata": {},
   "source": [
    "Let's calculate the required mass flow rate of methane at full load:\n",
    "\n",
    "$$\n",
    "\\dot{m}_{\\text{methane}} = \\dot{m}_{\\text{fuel}} = \\frac{P_{\\text{out}}}{\\eta \\cdot LHV} = \\frac{140}{0.45 \\cdot 50} \\approx 6.22~\\text{kg/s}\n",
    "$$"
   ]
  },
  {
   "cell_type": "markdown",
   "metadata": {},
   "source": [
    "Let's now compute the overall equivalence ratio:\n",
    "\n",
    "$$\n",
    "\\phi = \\frac{(F/A)}{(F/A)_{\\text{stoich}}}\n",
    "$$\n",
    "Where $F/A$ is the mass ratio of fuel to air.  \n",
    "\n",
    "\n",
    "It becomes :\n",
    "\n",
    "$$\n",
    "\\phi = \\frac{\\dot{m}_\\text{fuel} / \\dot{m}_\\text{air}}{1/AFR_{\\text{stoich}}} = \\frac{\\dot{m}_\\text{methane}}{\\dot{m}_\\text{air}} \\cdot AFR_{\\text{stoich}}\n",
    "$$\n",
    "\n",
    "\n",
    "Let's find the **Stoichiometric Air To Fuel Ratio**.\n",
    "First, let's find the mass ratio of fuel for **methane (CH₄) burning in air**.\n",
    "\n",
    "\n",
    "The stoichiometric combustion reaction for CH₄ burning in air is \n",
    "$$\n",
    "\\ce{CH4 + 2 O2 + 7.52 N2 -> CO2 + 2 H2O + 7.52 N2}\n",
    "$$\n",
    "\n",
    "- Air is composed of O₂ and N₂ with a mole ratio $N_2/O_2 \\approx 3.76$.  \n",
    "- 1 mole of CH₄ requires 2 moles of O₂. The nitrogen is inert.\n",
    "\n",
    "---\n",
    "\n",
    "\n",
    "$$\n",
    "AFR_{\\text{stoich}} = \\frac{\\text{mass of air required}}{\\text{mass of fuel}}\n",
    "$$\n",
    "\n",
    "The **mass of air** is :\n",
    "\n",
    "$$\n",
    "\\begin{aligned}\n",
    "M_{\\ce{O2}} &= 32~\\mathrm{g/mol} \\\\\n",
    "M_{\\ce{N2}} &= 28~\\mathrm{g/mol} \\\\\n",
    "m_\\text{air} &= 2 \\cdot 32 + 7.52 \\cdot 28 \\\\\n",
    "m_\\text{air} &= 64 + 210.56 = 274.56~\\mathrm{g}\n",
    "\\end{aligned}\n",
    "$$\n",
    "\n",
    "The **mass of methane** is :\n",
    "\n",
    "$$\n",
    "m_\\text{methane} = 16~\\mathrm{g/mol} * 1 mol\n",
    "$$\n",
    "\n",
    "Hence, we get the **stoichiometric air-fuel ratio** :\n",
    "\n",
    "$$\n",
    "AFR_{\\text{stoich}} = \\frac{274.56}{16} \\approx 17.16\n",
    "$$\n",
    "\n",
    "\n",
    "\n",
    "We already know $\\dot{m}_\\text{methane} \\approx 6.22 \\mathrm{kg/s}$ and $\\dot{m}_\\text{air} \\approx 220 \\mathrm{kg/s}$\n",
    "\n",
    "Finally, \n",
    "\n",
    "$$\n",
    "\\phi = \\frac{\\dot{m}_\\text{methane}}{\\dot{m}_\\text{air}} \\cdot AFR_{\\text{stoich}} = \\frac{6.22}{220} \\cdot 17.16 \\approx 0.485\n",
    "$$\n",
    "\n",
    "The system is globally lean ($\\phi < 1$)\n"
   ]
  },
  {
   "cell_type": "markdown",
   "metadata": {},
   "source": [
    "We can now calculate $\\tau_{res}$, the *residence time*. \n",
    "\n",
    "The aero-derivative turbine \"burns gaseous fuels like natural gas\" -> PV = nRT -> $\\rho = \\frac{P}{RT} = \\frac{35*101325}{287.05*850} \\approx 14.53 kg/m^3$.\n",
    "\n",
    "The total mass rate is $\\dot{m}_\\text{tot} = \\dot{m}_\\text{air} + \\dot{m}_\\text{methane} \\approx 226.22kg/s$.\n",
    "\n",
    "Thus, $\\dot{V} = \\frac{\\dot{m}_\\text{tot}}{\\rho} \\approx \\frac{226.22}{14.53} \\approx 15.57 m^3/s$.\n",
    "\n",
    "Finally, $\\tau_{res} = \\frac{V_{comb}}{\\dot{V}} \\approx \\frac{0.3}{15.57} \\approx 19.27ms$"
   ]
  },
  {
   "cell_type": "code",
   "execution_count": 2,
   "metadata": {},
   "outputs": [],
   "source": [
    "# Parameters\n",
    "P_out = 140e6         # W\n",
    "eta = 0.45\n",
    "mdot_air = 220.0      # kg/s (fixed by compresser)\n",
    "V_comb = 0.3          # m^3\n",
    "P = 35.0 * ct.one_atm # Pa\n",
    "T_in = 850.0          # K\n",
    "LHV = 50e6            # J/kg "
   ]
  },
  {
   "cell_type": "code",
   "execution_count": 3,
   "metadata": {},
   "outputs": [
    {
     "name": "stdout",
     "output_type": "stream",
     "text": [
      "mdot_fuel = 6.22222 kg/s\n",
      "Equivalence ratio phi = 0.4853\n",
      "Total mass flow = 226.2222 kg/s\n",
      "Density (ideal-gas approx) = 14.5372 kg/m3\n",
      "Volumetric flow Vdot = 15.5616 m3/s\n",
      "Residence time tau = 0.019278 s = 19.278 ms\n"
     ]
    }
   ],
   "source": [
    "# Compute mdot_methane, phi, rho and tau_res\n",
    "\n",
    "mdot_methane = P_out / (eta * LHV)       # kg/s\n",
    "mdot_total = mdot_air + mdot_methane\n",
    "\n",
    "M_methane = 16  # g/mol\n",
    "M_O2      = 32  # g/mol\n",
    "M_N2      = 28  # g/mol\n",
    "m_air = 2 * M_O2 + 7.52 * M_N2 # g\n",
    "m_methane = M_methane * 1      # g\n",
    "AFR_stoich = m_air / m_methane\n",
    "phi = (mdot_methane / mdot_air) * AFR_stoich\n",
    "\n",
    "M_air = 28.97     # kg/kmol\n",
    "R = ct.gas_constant / M_air  # J/(kg K)\n",
    "rho = P / (R * T_in)\n",
    "Vdot = mdot_total / rho\n",
    "tau_res = V_comb / Vdot\n",
    "\n",
    "print(f\"mdot_fuel = {mdot_methane:.5f} kg/s\")\n",
    "print(f\"Equivalence ratio phi = {phi:.4f}\")\n",
    "print(f\"Total mass flow = {mdot_total:.4f} kg/s\")\n",
    "print(f\"Density (ideal-gas approx) = {rho:.4f} kg/m3\")\n",
    "print(f\"Volumetric flow Vdot = {Vdot:.4f} m3/s\")\n",
    "print(f\"Residence time tau = {tau_res:.6f} s = {tau_res*1e3:.3f} ms\")"
   ]
  },
  {
   "cell_type": "code",
   "execution_count": 4,
   "metadata": {},
   "outputs": [
    {
     "name": "stdout",
     "output_type": "stream",
     "text": [
      "Inlet composition: {'CH4': 0.04871492436562977, 'O2': 0.1997698658832177, 'N2': 0.7515152097511524}\n"
     ]
    }
   ],
   "source": [
    "# Inlet composition (CH4-air mixture)\n",
    "\n",
    "n_air = mdot_air / M_air              # kmol/s\n",
    "n_methane = mdot_methane / M_methane  # kmol/s\n",
    "n_O2 = 0.21 * n_air\n",
    "n_N2 = 0.79 * n_air\n",
    "n_total = n_O2 + n_N2 + n_methane\n",
    "X_in = {'CH4': n_methane / n_total, 'O2': n_O2 / n_total, 'N2': n_N2 / n_total}\n",
    "print(\"Inlet composition:\", X_in)"
   ]
  },
  {
   "cell_type": "code",
   "execution_count": 7,
   "metadata": {},
   "outputs": [],
   "source": [
    "# Adiabatic equilibrium\n",
    "\n",
    "gas_equil = ct.Solution('grimech30.yaml') # Includes NO specie"
   ]
  },
  {
   "cell_type": "code",
   "execution_count": 8,
   "metadata": {},
   "outputs": [
    {
     "name": "stdout",
     "output_type": "stream",
     "text": [
      "Adiabatic equilibrium\n",
      "T_eq = 1902.37 K\n",
      "CO (mole frac) = 1.455666e-05\n",
      "NO (mole frac) = 3.907188e-03\n",
      "NOx (NO+NO2+N2O) (mole frac) = 3.941368e-03\n",
      "CH4 (mole frac) = 5.974048e-24\n"
     ]
    }
   ],
   "source": [
    "gas_equil.TPX = T_in, P, X_in\n",
    "gas_equil.equilibrate('HP') # Calculate equilibrium at HP: Enthalpy H and Pressure P constant\n",
    "T_eq = gas_equil.T\n",
    "\n",
    "X = gas_equil.X\n",
    "\n",
    "X_CO_eq  = X[gas_equil.species_index('CO')]\n",
    "X_NO_eq  = X[gas_equil.species_index('NO')]\n",
    "X_NO2_eq = X[gas_equil.species_index('NO2')] \n",
    "X_N2O_eq = X[gas_equil.species_index('N2O')]\n",
    "X_CH4_eq = X[gas_equil.species_index('CH4')]\n",
    "X_NOx_eq = X_NO_eq + X_NO2_eq + X_N2O_eq\n",
    "\n",
    "print(\"Adiabatic equilibrium\")\n",
    "print(f\"T_eq = {T_eq:.2f} K\")\n",
    "print(f\"CO (mole frac) = {X_CO_eq:.6e}\")\n",
    "print(f\"NO (mole frac) = {X_NO_eq:.6e}\")\n",
    "print(f\"NOx (NO+NO2+N2O) (mole frac) = {X_NOx_eq:.6e}\")\n",
    "print(f\"CH4 (mole frac) = {X_CH4_eq:.6e}\")"
   ]
  },
  {
   "cell_type": "code",
   "execution_count": 9,
   "metadata": {},
   "outputs": [],
   "source": [
    "gas_psr = ct.Solution('grimech30.yaml')\n",
    "gas_psr.TPX = T_in, P, X_in"
   ]
  },
  {
   "cell_type": "code",
   "execution_count": null,
   "metadata": {},
   "outputs": [],
   "source": [
    "gas_psr.species_names"
   ]
  },
  {
   "cell_type": "code",
   "execution_count": 10,
   "metadata": {},
   "outputs": [
    {
     "name": "stdout",
     "output_type": "stream",
     "text": [
      "=== PSR steady-state (tau = 1.927818e-02 s) ===\n",
      "Reactor steady-state T = 850.00 K, P = 35.22 atm\n",
      "T_psr = 850.00 K\n",
      "CO (mole frac) = 6.729146e-09\n",
      "NOx (mole frac) = 7.258392e-14\n",
      "CH4 (mole frac) = 4.871432e-02\n",
      "========================================\n",
      "\n"
     ]
    }
   ],
   "source": [
    "# IdealGasReactor with given volume and computed tau \n",
    "\n",
    "# Initialize the reactor with constant volume \n",
    "psr = ct.IdealGasReactor(gas_psr, energy='on', volume=V_comb)\n",
    "# Upstream reservoir with air + cold fuel\n",
    "upstream = ct.Reservoir(gas_psr)\n",
    "# Downstream reservoir initialized at the same state as the inlet\n",
    "downstream = ct.Reservoir(gas_psr)\n",
    "\n",
    "# Mass controller mdot = mass in the reactor / tau\n",
    "mfc = ct.MassFlowController(upstream, psr, mdot=psr.mass / tau)\n",
    "valve = ct.Valve(psr, downstream, K=0.01)\n",
    "\n",
    "# Reactor network\n",
    "net = ct.ReactorNet([psr])\n",
    "\n",
    "# Advance to steady state\n",
    "t = 0.0\n",
    "net.advance_to_steady_state()\n",
    "\n",
    "X_psr = psr.thermo.X\n",
    "X_CO_psr = psr.thermo['CO'].X[0]\n",
    "X_NO_psr = psr.thermo['NO'].X[0] + psr.thermo['NO2'].X[0] + psr.thermo['N2O'].X[0]\n",
    "X_CH4_psr = psr.thermo['CH4'].X[0]\n",
    "\n",
    "print(\"=== PSR steady-state (tau = {:.6e} s) ===\".format(tau_res))\n",
    "print(\"Reactor steady-state T = {:.2f} K, P = {:.2f} atm\".format(psr.T, psr.thermo.P/ct.one_atm))\n",
    "print(f\"T_psr = {psr.T:.2f} K\")\n",
    "print(f\"CO (mole frac) = {X_CO_psr:.6e}\")\n",
    "print(f\"NOx (mole frac) = {X_NO_psr:.6e}\")\n",
    "print(f\"CH4 (mole frac) = {X_CH4_psr:.6e}\")\n",
    "print(\"========================================\\n\")\n"
   ]
  },
  {
   "cell_type": "markdown",
   "metadata": {},
   "source": [
    "**Adiabatic equilibrium results**\n",
    "\n",
    "**Cantera simulation** (`gas.equilibrate('HP')`) produced:\n",
    "\n",
    "|  |  |  |  |  |\n",
    "|-----------|---------|--------|--------------|----------------|\n",
    "| Temperature | $T_{eq}$ | **1902 K** | — | Adiabatic flame temp |\n",
    "| CO (mole fraction) | 1.46×10⁻⁵ | **≈ 14.6 ppm** | Almost complete oxidation |\n",
    "| NOx (mole fraction) | 3.94×10⁻³ | **≈ 3,940 ppm** | High thermal NO formation |\n",
    "| CH₄ (mole fraction) | 5.97×10⁻²⁴ | ~0 ppm | Fully burned fuel |\n",
    "\n",
    "This represents the **thermodynamic limit** of complete combustion with no kinetic constraints: infinite time, perfect mixing and adiabatic conditions.  \n",
    "In such a scenario, the mixture has reached full equilibrium, most of the fuel turns into CO₂ and H₂O, with very little pollution produced.  \n",
    "The 1902 K flame temperature is consistent with lean methane-air combustion at 35 atm (see Turns, *An Introduction to Combustion*, 3rd ed., 2012).\n",
    "\n",
    "---\n",
    "\n",
    "**Perfectly Stirred Reactor (PSR)**\n",
    "\n",
    "\n",
    "|  |  |  |  |  |\n",
    "|-----------|---------|--------|--------------|----------------|\n",
    "| Reactor temperature | $T_{psr}$ | **850 K** | Isothermal condition |\n",
    "| CO (mole fraction) | 6.73×10⁻⁹ | **≈ 0.007 ppm** | Negligible |\n",
    "| NOx (mole fraction) | 7.26×10⁻¹⁴ | **≈ 0 ppm** | Negligible |\n",
    "| CH₄ (mole fraction) | 4.87×10⁻² | **≈ 48,700 ppm (4.9%)** | Significant unburned fuel (UHC) |\n",
    "\n",
    "**The mixture did not ignite** due to low T and short residence time.  \n",
    "\n",
    "---\n",
    "\n",
    "|  | Adiabatic Equilibrium | PSR (Isothermal, 850 K) | Physical Meaning |\n",
    "|--------|------------------------|--------------------------|------------------|\n",
    "| Temperature | 1902 K | 850 K | Determines reaction rate and NOx formation |\n",
    "| CH₄ | ~0 ppm | 4.9% | Large unburned hydrocarbon fraction |\n",
    "| CO | 15 ppm | ~0 ppm | Reaction incomplete, but CO suppressed |\n",
    "| NOx | 3,940 ppm | ~0 ppm | Thermal NOx formation needs high T |\n",
    "| Residence time | N/A | 19 ms | Flow too fast for complete kinetics |\n",
    "\n",
    "The equilibrium predicts the **max possible NOx** and **min CO / UHC**.\n",
    "The PSR is kinetically limited → unburned CH₄ ≈ 5% and negligible NOx/CO. The mixture is well mixed but not sufficiently reactive to reach equilibrium within the residence time.\n",
    "\n",
    "---"
   ]
  },
  {
   "cell_type": "markdown",
   "metadata": {},
   "source": [
    "With our calculated $\\tau$, the system does not have time to ignite. Let's **sweep values of $\\tau$**. "
   ]
  },
  {
   "cell_type": "code",
   "execution_count": 11,
   "metadata": {},
   "outputs": [
    {
     "data": {
      "image/png": "[encoded data removed]",
      "text/plain": [
       "<Figure size 640x480 with 1 Axes>"
      ]
     },
     "metadata": {},
     "output_type": "display_data"
    }
   ],
   "source": [
    "taus = np.logspace(-3, 0, 20)  # de 1 ms à 1 s\n",
    "T_psr_list = []\n",
    "\n",
    "for tau in taus:\n",
    "    gas_psr.TPX = T_in, P, X_in\n",
    "    psr = ct.IdealGasReactor(gas_psr, energy='on', volume=V_comb)\n",
    "    upstream = ct.Reservoir(gas_psr)\n",
    "    downstream = ct.Reservoir(gas_psr)\n",
    "    mfc = ct.MassFlowController(upstream, psr, mdot=psr.mass / tau)\n",
    "    valve = ct.Valve(psr, downstream, K=0.01)\n",
    "    net = ct.ReactorNet([psr])\n",
    "    net.advance_to_steady_state()\n",
    "    T_psr_list.append(psr.T)\n",
    "\n",
    "import matplotlib.pyplot as plt\n",
    "plt.semilogx(taus, T_psr_list)\n",
    "plt.xlabel('τ (s)')\n",
    "plt.ylabel('T_psr (K)')\n",
    "plt.grid(True)\n",
    "plt.show()\n"
   ]
  },
  {
   "cell_type": "markdown",
   "metadata": {},
   "source": [
    "- **Low plateau (~850 K) for small τ:**  \n",
    "  → No ignition occurs.  \n",
    "  → Reaction rates are extremely slow, and the radical pool is insufficient to sustain combustion.\n",
    "\n",
    "- **Sharp temperature rise around a critical τ ($τ_{crit}$ ≈ 0.08 s):**  \n",
    "  → Transition to a **runaway exothermic state**.  \n",
    "  → Chemical heat release exceeds heat losses, leading to a rapid temperature increase.\n",
    "\n",
    "- **High plateau (~T_ad ≈ adiabatic flame temperature):**  \n",
    "  → Fully burned (combusted) mixture.  \n",
    "  → System reaches near-adiabatic equilibrium conditions.\n",
    "\n",
    "The calculated residence time (τ = **0.019 s**) is **below the critical ignition residence time** ($τ_{crit} ≈ **0.08 s**$).  \n",
    "→ It is therefore **expected** that no significant temperature rise occurs at τ = 0.019 s.\n",
    "\n",
    "---\n",
    "\n",
    "- The mixture is **quite lean (ϕ ≈ 0.485)** → lower reactivity → **longer ignition delay**.  \n",
    "- Although the pressure is high (which accelerates reaction rates), the **inlet temperature (850 K)** is still too low to trigger fast ignition chemistry.  \n",
    "- Hence, at τ = 0.019 s, the system leaves the combustor **before ignition reactions can develop**.\n",
    "\n",
    "---\n",
    "\n",
    "| Region | τ Behavior | Temperature | Combustion State |\n",
    "|--------|--------------------|--------------|------------------|\n",
    "| τ < $τ_{crit}$ (~0.08 s) | Slow kinetics, no ignition | ~850 K | Unreacted / lean mixture |\n",
    "| τ ≈ $τ_{crit}$ | Rapid T rise | 850 → 1900 K | Ignition transition |\n",
    "| τ > $τ_{crit}$ | Fully developed burn | $T_{ad}$ (~1900 K) | Near-equilibrium |\n",
    "\n",
    "The combustor’s nominal residence time (**0.019 s**) lies in the **non-ignited regime**, so the low PSR temperature (850 K) and high unburned CH₄ fraction are coherent.\n",
    "\n",
    "---\n"
   ]
  },
  {
   "cell_type": "markdown",
   "metadata": {},
   "source": [
    "Let's determine what residence time choose to minimise CO and NOx.\n",
    "\n",
    "We want two thresholds as functions of reactor residence time τ:\n",
    "\n",
    "1. **$τ_{CO,min}$** : the *minimum* residence time after which the reactor outlet CO concentration **exceeds 25 ppm (by volume)**.  \n",
    "   - Early in τ the chemistry is too slow and very little CO forms; as τ increases, partial oxidation pathways produce more CO before full oxidation consumes it. This threshold is the first τ where $X_{CO} * 1e6 > 25$.\n",
    "\n",
    "2. **$τ_{NOx,max}$** : the *maximum* residence time that still keeps NOx (NO+NO₂+N₂O) **≤ 25 ppm**. Equivalently, it's the τ at which NOx first exceeds 25 ppm as τ increases.  \n",
    "   - As τ increases, the reactor temperature typically rises toward the adiabatic equilibrium temperature and thermal NOx production increases; thus, NOx tends to grow with τ.\n",
    "\n",
    "We will scan τ over a wide range, record steady-state mole fractions from a PSR (IdealGasReactor), and find the crossing points numerically.\n",
    "\n",
    "---"
   ]
  },
  {
   "cell_type": "code",
   "execution_count": 38,
   "metadata": {},
   "outputs": [],
   "source": [
    "import matplotlib.pyplot as plt\n",
    "from math import isclose"
   ]
  },
  {
   "cell_type": "code",
   "execution_count": 39,
   "metadata": {},
   "outputs": [],
   "source": [
    "# Parameters\n",
    "\n",
    "tau_min_scan = 1e-4          \n",
    "tau_max_scan = 5.0           \n",
    "n_scan = 120                 \n",
    "tol_bisect = 1e-6            # bisector tolerance (s)\n",
    "max_bisect_iter = 60\n",
    "\n",
    "# thresholds (ppm)\n",
    "ppm_threshold = 25.0"
   ]
  },
  {
   "cell_type": "code",
   "execution_count": 70,
   "metadata": {},
   "outputs": [],
   "source": [
    "mech = 'grimech30.yaml'\n",
    "gas = ct.Solution(mech)\n",
    "\n",
    "gas.TPX = T_in, P, X_in"
   ]
  },
  {
   "cell_type": "code",
   "execution_count": 71,
   "metadata": {},
   "outputs": [],
   "source": [
    "# Function to compute CO & NOx for a given tau\n",
    "def run_psr(tau):\n",
    "    # Reset gas state each iteration\n",
    "    gas.TPX = T_in, P, X_in\n",
    "    upstream = ct.Reservoir(gas)\n",
    "    downstream = ct.Reservoir(gas)\n",
    "    \n",
    "    psr = ct.IdealGasReactor(gas, energy='on', volume=V_comb)  # reset the reactor to inlet\n",
    "    net = ct.ReactorNet([psr])\n",
    "    # Mass flow rate and controllers\n",
    "    mdot = psr.mass / tau\n",
    "    mfc = ct.MassFlowController(upstream, psr, mdot=mdot)\n",
    "    valve = ct.Valve(psr, downstream, K=0.01)\n",
    "    \n",
    "    # Run to steady state\n",
    "    net.advance_to_steady_state()\n",
    "    \n",
    "    # Extract species mole fractions\n",
    "    X = psr.thermo.X\n",
    "    species = psr.thermo.species_names\n",
    "    idx = {sp: i for i, sp in enumerate(species)}\n",
    "\n",
    "    X_CO = X[idx['CO']] if 'CO' in idx else 0.0\n",
    "    X_NO = X[idx['NO']] if 'NO' in idx else 0.0\n",
    "    X_NO2 = X[idx['NO2']] if 'NO2' in idx else 0.0\n",
    "    X_N2O = X[idx['N2O']] if 'N2O' in idx else 0.0\n",
    "    X_NOx = X_NO + X_NO2 + X_N2O\n",
    "\n",
    "    return psr.T, X_CO * 1e6, X_NOx * 1e6  # convert to ppmv"
   ]
  },
  {
   "cell_type": "code",
   "execution_count": 72,
   "metadata": {},
   "outputs": [],
   "source": [
    "# Range of residence times\n",
    "\n",
    "taus = np.logspace(-3, 1, 40)  # from 1 ms to 10 s\n",
    "CO_ppm = np.zeros_like(taus)\n",
    "NOx_ppm = np.zeros_like(taus)\n",
    "T_out = np.zeros_like(taus)"
   ]
  },
  {
   "cell_type": "code",
   "execution_count": 73,
   "metadata": {},
   "outputs": [],
   "source": [
    "# Sweep residence time\n",
    "\n",
    "for i, tau in enumerate(taus):\n",
    "    T_out[i], CO_ppm[i], NOx_ppm[i] = run_psr(tau)"
   ]
  },
  {
   "cell_type": "code",
   "execution_count": 85,
   "metadata": {},
   "outputs": [
    {
     "data": {
      "image/png": "[encoded data removed]",
      "text/plain": [
       "<Figure size 800x600 with 1 Axes>"
      ]
     },
     "metadata": {},
     "output_type": "display_data"
    }
   ],
   "source": [
    "plt.figure(figsize=(8,6))\n",
    "plt.loglog(taus, CO_ppm, 'r-o', label='CO (ppm)')\n",
    "\n",
    "plt.axhline(y=25, color='r', linestyle='--', label='25 ppm')\n",
    "plt.axvline(x=0.11, color='b', linestyle='--', label='0.11 s')\n",
    "\n",
    "plt.xlabel('Residence time [s]')\n",
    "plt.ylabel('Concentration [ppm]')\n",
    "plt.title('CO vs. Residence Time in PSR (GriMech30)')\n",
    "plt.grid(True, ls='--', alpha=0.6)\n",
    "plt.legend()\n",
    "plt.tight_layout()\n",
    "plt.show()"
   ]
  },
  {
   "cell_type": "code",
   "execution_count": 84,
   "metadata": {},
   "outputs": [
    {
     "data": {
      "image/png": "[encoded data removed]",
      "text/plain": [
       "<Figure size 800x600 with 1 Axes>"
      ]
     },
     "metadata": {},
     "output_type": "display_data"
    }
   ],
   "source": [
    "plt.figure(figsize=(8,6))\n",
    "plt.loglog(taus, NOx_ppm, 'b-s', label='NOx (ppm)')\n",
    "\n",
    "plt.axhline(y=25, color='r', linestyle='--', label='25 ppm')\n",
    "plt.axvline(x=0.11, color='b', linestyle='--', label='0.11 s')\n",
    "\n",
    "plt.xlabel('Residence time [s]')\n",
    "plt.ylabel('Concentration [ppm]')\n",
    "plt.title('NOx vs. Residence Time in PSR (GriMech30)')\n",
    "plt.grid(True, ls='--', alpha=0.6)\n",
    "plt.legend()\n",
    "plt.tight_layout()\n",
    "plt.show()"
   ]
  },
  {
   "cell_type": "markdown",
   "metadata": {},
   "source": [
    "**CO**\n",
    "\n",
    "- **τ = 10⁻³ – 0.08 s:** CO increases quasi-linearly from ~3.5×10⁻⁶ ppm to ~2 ppm.\n",
    "- **τ ≈ 0.1 s:** Sudden jump in CO concentration (~20 ppm).\n",
    "- **τ > 1 s:** Slight decrease and stabilization around ~15 ppm.\n",
    "\n",
    "- **Short τ (<0.1 s) → kinetically limited combustion**  \n",
    "  - Incomplete conversion of CH₄ → CO₂ + H₂O.  \n",
    "  - CO accumulates slowly as partial oxidation occurs.  \n",
    "  - Highlights the **importance of sufficient residence time for complete combustion**.\n",
    "\n",
    "- **Transition (~0.1 s) → radical buildup**  \n",
    "  - Rapid CO increase indicates that CH₄ is partially oxidized, but CO → CO₂ reactions lag.  \n",
    "  - Sensitive region for **reaction kinetics and mixing efficiency**.\n",
    "\n",
    "- **Long τ (>1 s) → quasi-equilibrium**  \n",
    "  - CO stabilizes as CH₄ conversion approaches steady-state.  \n",
    "  - Indicates the **upper limit of CO reduction achievable in this PSR volume**.\n",
    "\n",
    "---\n",
    "\n",
    "**NOx**\n",
    "\n",
    "- **τ = 10⁻³ – 0.09 s:** NOx nearly zero (2×10⁻⁹ → 2×10⁻⁶ ppm).  \n",
    "- **τ ≈ 0.1 s:** Large jump to ~100 ppm.  \n",
    "- **τ > 7 s:** Slight growth and stabilization around ~2000 ppm.\n",
    "\n",
    "- **Short τ → negligible NOx**  \n",
    "  - Temperature insufficient for thermal NO formation.  \n",
    "  - CO dominates, NOx minimal.\n",
    "\n",
    "- **Transition (~0.1 s) → onset of thermal NOx**  \n",
    "  - Large jump in NOx as radicals and O atoms now sufficient to convert N₂ → NO.  \n",
    "  - **CO-NOx trade-off**.\n",
    "\n",
    "- **Long τ (>7 s) → quasi-equilibrium**  \n",
    "  - Thermal NOx approaches maximum given the inlet temperature and mixture.  \n",
    "  - Extending τ further does not reduce NOx → **thermodynamic limit**.\n",
    "\n",
    "---\n",
    "\n",
    "**Trade-offs and design considerations:**\n",
    "\n",
    "- **CO decreases / NOx increases** as τ increases:  \n",
    "Short τ → incomplete combustion → CO high, NOx low\n",
    "\n",
    "Intermediate τ → CO decreases, NOx rises sharply\n",
    "\n",
    "Long τ → CO low, NOx very high\n",
    "\n",
    "The **Air Staging Concept** (injecting a portion of the combustion air after the primary combustion zone rather than all at the inlet) would reduce peak flame temperature in the primary zone to limit NOx formation while still ensuring complete combustion.  \n",
    "In our scenario, the primary zone has short τ, limited NOx formation and moderate CO. The secondary air injection raises O₂ availability without increasing local flame temperature, to allow CO conversion to CO₂ without spiking NOx.\n",
    "\n",
    "**Optimal τ selection:**  \n",
    "- For an aero-derivative GT at 35 atm and $T_{in} ~850 K$:  \n",
    "  - τ ~ 0.10 s to reduce CO but avoid large NOx rise. "
   ]
  },
  {
   "cell_type": "markdown",
   "metadata": {},
   "source": [
    "**Comparison of PSR and Equilibrium Concentrations for CO₂ and NOx**\n",
    "\n",
    "- **Equilibrium (adiabatic) values** at T_in = 850 K and P = 35 atm:\n",
    "  - CO₂ is nearly at its maximum possible mole fraction (CH₄ fully oxidized).  \n",
    "  - CO is essentially zero (~10⁻⁵–10⁻⁶).  \n",
    "  - NOx (NO, NO₂, N₂O) is practically zero because the temperature is far below the activation threshold for thermal NOx formation (~1800 K).  \n",
    "- **PSR values** at the same inlet conditions and τ ~ 0.02 s:\n",
    "  - CO₂ slightly lower than equilibrium due to incomplete conversion.  \n",
    "  - CO small but non-zero (~8×10⁻⁶).  \n",
    "  - NOx remains zero, consistent with equilibrium.  \n",
    "\n",
    "- The PSR shows **kinetic limitations** that are not captured by equilibrium assumptions.  \n",
    "- At short residence times, **chemical reactions have not reached completion**, so species like CO and UHC are present even if equilibrium predicts almost none.  \n",
    "- Equilibrium assumptions **overestimate conversion** of CH₄ → CO₂ and **underestimate transient CO and UHC**.\n",
    "\n",
    "---\n",
    "\n",
    "PSR deviates from equilibrium\n",
    "\n",
    "- **Time scale mismatch:**  \n",
    "  - PSR accounts for **finite residence time (τ)** in the reactor.  \n",
    "  - Chemical reactions (CH₄ oxidation, CO oxidation, NO formation) may not reach equilibrium within short τ.\n",
    "- **Temperature limitation:**  \n",
    "  - Thermal NOx formation requires **high temperatures (>1800 K)**.  \n",
    "  - At T_in = 850 K, even infinite τ would not produce much NOx.  \n",
    "- **Mixing assumption:**  \n",
    "  - PSR assumes **perfect mixing**, but in reality, staged or partial air injection causes **local gradients**, affecting reaction rates.\n",
    "\n",
    "---\n",
    "\n",
    "When to relax the equilibrium assumption\n",
    "\n",
    "- **Short residence time or high flow rates:**  \n",
    "  - The reaction time is too low to reach equilibrium.  \n",
    "  - PSR predicts higher CO and UHC than equilibrium.  \n",
    "- **Transient operation:**  \n",
    "  - Equilibrium is never reached during load changes or start-up.  \n",
    "- **Pollutant control:**  \n",
    "  - As highlighted in the PSR sweep, equilibrium predictions alone **cannot capture the CO-NOx trade-off** .  \n",
    "\n",
    "If τ_reactor < τ_chem\n",
    "→ it's best to use PSR\n",
    "Else\n",
    "→ Equilibrium may provide rough estimates"
   ]
  },
  {
   "cell_type": "code",
   "execution_count": 1,
   "metadata": {},
   "outputs": [
    {
     "data": {
      "image/png": "[encoded data removed]",
      "text/plain": [
       "<Figure size 800x600 with 1 Axes>"
      ]
     },
     "metadata": {},
     "output_type": "display_data"
    }
   ],
   "source": [
    "import cantera as ct\n",
    "import numpy as np\n",
    "import matplotlib.pyplot as plt\n",
    "\n",
    "# ------------------- Inputs -------------------\n",
    "mech = 'grimech30.yaml'        # Mechanism\n",
    "T_in = 850.0                   # K\n",
    "P = 35 * ct.one_atm            # Pa\n",
    "fuel = 'CH4'\n",
    "oxidizer = 'O2:0.21,N2:0.79'\n",
    "\n",
    "phi_list = np.linspace(0.25, 2.0, 300)  # equivalence ratios\n",
    "tau_ign_list = []\n",
    "\n",
    "# Ignition detection criteria\n",
    "deltaT_threshold = 400      # K above T_in for ignition\n",
    "dT_convergence = 0.010      # K, small change in T for convergence\n",
    "max_time = 10.0             # s, maximum simulation time\n",
    "\n",
    "# ------------------- Loop over equivalence ratios -------------------\n",
    "for phi in phi_list:\n",
    "    # Set mole fractions according to equivalence ratio\n",
    "    gas = ct.Solution(mech)\n",
    "    gas.set_equivalence_ratio(phi, fuel, oxidizer)\n",
    "    gas.TP = T_in, P\n",
    "\n",
    "    # Create reactor\n",
    "    r = ct.IdealGasConstPressureMoleReactor(gas, name='R1')\n",
    "    sim = ct.ReactorNet([r])\n",
    "    \n",
    "    # Optional: improve convergence for large mechanisms\n",
    "    sim.derivative_settings = {\"skip-third-bodies\": True, \"skip-falloff\": True}\n",
    "    sim.preconditioner = ct.AdaptivePreconditioner()\n",
    "    \n",
    "    # Initialize time and temperature\n",
    "    t = 0.0\n",
    "    t_old = r.T\n",
    "    tau_ign = max_time\n",
    "\n",
    "    while t < max_time:\n",
    "        t = sim.step()\n",
    "        t_new = r.T\n",
    "        \n",
    "        # Check ignition criterion: small ΔT + T above threshold\n",
    "        if abs(t_new - t_old) < dT_convergence and t_new > T_in + deltaT_threshold:\n",
    "            tau_ign = t\n",
    "            break\n",
    "        \n",
    "        t_old = t_new\n",
    "\n",
    "    tau_ign_list.append(tau_ign)\n",
    "\n",
    "# ------------------- Plot -------------------\n",
    "plt.figure(figsize=(8,6))\n",
    "plt.plot(phi_list, tau_ign_list, 'o-', color='darkred', lw=2)\n",
    "plt.xlabel('Equivalence Ratio Φ')\n",
    "plt.ylabel('Ignition Delay τ_ign [s]')\n",
    "plt.title('Ignition Delay vs Equivalence Ratio (CH4-Air)')\n",
    "plt.grid(True, ls='--', alpha=0.6)\n",
    "plt.yscale('log')\n",
    "plt.show()\n"
   ]
  },
  {
   "cell_type": "markdown",
   "metadata": {},
   "source": [
    "### Effect of fuel inlet temperature on combustion of aero-derivative combustor"
   ]
  },
  {
   "cell_type": "markdown",
   "metadata": {},
   "source": [
    "#### Introduction"
   ]
  },
  {
   "cell_type": "markdown",
   "metadata": {},
   "source": [
    "This part revolves around investigating the effect of fuel inlet temperature on the combustion process of an aero-derivative gas turbine combustor. Whereas the previous simulation assumed all reactants entered at a temperature 850K, here the methane fuel temperature is at 300K. \n",
    "Thus, we will calculate the mix temperature and compute the new adiabatic flame temperature and pollutant concentrations."
   ]
  },
  {
   "cell_type": "markdown",
   "metadata": {},
   "source": [
    "#### Methodology"
   ]
  },
  {
   "cell_type": "markdown",
   "metadata": {},
   "source": [
    "Most of the code is similar but with T_fuel = 300K.\n",
    "\n",
    "In Part 1, both the air and fuel entered at 850 K.  \n",
    "The mixture was therefore already at a known uniform temperature, so we directly set:\n",
    "\n",
    "gas.TPX = T_in, P, X_in\n",
    "\n",
    "which fixes the thermodynamic state completely.\n",
    "\n",
    "In Part 2, the air (850 K) and fuel (300 K) are mixed before entering the combustor. Because they have different temperatures, the total energy of the mixture must be calculated from the enthalpy balance: \n",
    "$$ h_{mix} = \\frac{\\dot{m}_{air} \\cdot h_{air} + \\dot{m}_{fuel}\\cdot h_{fuel}}{\\dot{m}_{air}+\\dot{m}_{fuel}} $$\n",
    "Then, we set the mixture state using H and P and Cantera computes the corresponding temperature."
   ]
  },
  {
   "cell_type": "markdown",
   "metadata": {},
   "source": [
    "### Colder fuel "
   ]
  },
  {
   "cell_type": "code",
   "execution_count": 14,
   "metadata": {},
   "outputs": [],
   "source": [
    "T_fuel = 300.0\n",
    "\n",
    "# Mol fractions\n",
    "X_air = {'O2': 0.21, 'N2': 0.79}\n",
    "X_fuel = {'CH4': 1.0}"
   ]
  },
  {
   "cell_type": "code",
   "execution_count": 15,
   "metadata": {},
   "outputs": [],
   "source": [
    "# Gas for enthalpy calculation\n",
    "gas_air = ct.Solution('grimech30.yaml')\n",
    "gas_air.TPX = T_air, P, X_air\n",
    "H_air = gas_air.enthalpy_mass"
   ]
  },
  {
   "cell_type": "code",
   "execution_count": 16,
   "metadata": {},
   "outputs": [],
   "source": [
    "gas_fuel = ct.Solution('grimech30.yaml')\n",
    "gas_fuel.TPX = T_fuel, P, X_fuel\n",
    "H_fuel = gas_fuel.enthalpy_mass"
   ]
  },
  {
   "cell_type": "code",
   "execution_count": 17,
   "metadata": {},
   "outputs": [],
   "source": [
    "mdot_total = mdot_air + mdot_CH4\n",
    "H_total = (mdot_air*H_air + mdot_CH4*H_fuel)/mdot_total"
   ]
  },
  {
   "cell_type": "code",
   "execution_count": 18,
   "metadata": {},
   "outputs": [],
   "source": [
    "gas_mix = ct.Solution('grimech30.yaml')"
   ]
  },
  {
   "cell_type": "code",
   "execution_count": 19,
   "metadata": {},
   "outputs": [],
   "source": [
    "X_mix = {'CH4': n_CH4/n_total, 'O2': n_O2/n_total, 'N2': n_N2/n_total}\n",
    "gas_mix.TPX = T_air, P, X_mix  # placeholder T\n",
    "gas_mix.HP = H_total, P        # Update to reflect the cold fuel + hot air mix"
   ]
  },
  {
   "cell_type": "code",
   "execution_count": 20,
   "metadata": {},
   "outputs": [
    {
     "name": "stdout",
     "output_type": "stream",
     "text": [
      "Adiabatic flame temperature with fuel at 300 K: 1868.90 K\n"
     ]
    }
   ],
   "source": [
    "# Calculate real adiabatic temperature\n",
    "gas_mix.equilibrate('HP')\n",
    "print(f\"Adiabatic flame temperature with fuel at 300 K: {gas_mix.T:.2f} K\")"
   ]
  },
  {
   "cell_type": "code",
   "execution_count": 21,
   "metadata": {},
   "outputs": [
    {
     "name": "stdout",
     "output_type": "stream",
     "text": [
      "Adiabatic equilibrium species\n",
      "CO (mole frac) = 1.061027e-05\n",
      "NO (mole frac) = 3.527095e-03\n",
      "NOx (NO+NO2+N2O) (mole frac) = 3.559933e-03\n",
      "CH4 (mole frac) = 2.379833e-24\n"
     ]
    }
   ],
   "source": [
    "X = gas_mix.X\n",
    "\n",
    "X_CO_eq  = X[gas_mix.species_index('CO')]\n",
    "X_NO_eq  = X[gas_mix.species_index('NO')]\n",
    "X_NO2_eq = X[gas_mix.species_index('NO2')] \n",
    "X_N2O_eq = X[gas_mix.species_index('N2O')]\n",
    "X_CH4_eq = X[gas_mix.species_index('CH4')]\n",
    "X_NOx_eq = X_NO_eq + X_NO2_eq + X_N2O_eq\n",
    "\n",
    "print(\"Adiabatic equilibrium species\")\n",
    "print(f\"CO (mole frac) = {X_CO_eq:.6e}\")\n",
    "print(f\"NO (mole frac) = {X_NO_eq:.6e}\")\n",
    "print(f\"NOx (NO+NO2+N2O) (mole frac) = {X_NOx_eq:.6e}\")\n",
    "print(f\"CH4 (mole frac) = {X_CH4_eq:.6e}\")"
   ]
  },
  {
   "cell_type": "code",
   "execution_count": 22,
   "metadata": {},
   "outputs": [],
   "source": [
    "gas_air = ct.Solution('grimech30.yaml')\n",
    "gas_air.TPX = T_air, P, {'O2':0.21, 'N2':0.79}\n",
    "H_air = gas_air.enthalpy_mass"
   ]
  },
  {
   "cell_type": "code",
   "execution_count": 23,
   "metadata": {},
   "outputs": [],
   "source": [
    "gas_fuel = ct.Solution('grimech30.yaml')\n",
    "gas_fuel.TPX = T_fuel, P, {'CH4':1.0}\n",
    "H_fuel = gas_fuel.enthalpy_mass"
   ]
  },
  {
   "cell_type": "code",
   "execution_count": 24,
   "metadata": {},
   "outputs": [],
   "source": [
    "# Calculate the enthalpy of the mix\n",
    "H_mix = (mdot_air*H_air + mdot_CH4*H_fuel) / (mdot_air + mdot_CH4)"
   ]
  },
  {
   "cell_type": "code",
   "execution_count": 25,
   "metadata": {},
   "outputs": [],
   "source": [
    "X_in = {'CH4': n_CH4/n_total, 'O2': n_O2/n_total, 'N2': n_N2/n_total}"
   ]
  },
  {
   "cell_type": "code",
   "execution_count": 26,
   "metadata": {},
   "outputs": [
    {
     "name": "stdout",
     "output_type": "stream",
     "text": [
      "Mixture temperature after mixing (air 850K + fuel 300K): 328.73 K\n"
     ]
    }
   ],
   "source": [
    "gas_mix = ct.Solution('grimech30.yaml')\n",
    "gas_mix.HP = H_mix, P\n",
    "gas_mix.X = X_in\n",
    "\n",
    "print(f\"Mixture temperature after mixing (air 850K + fuel 300K): {gas_mix.T:.2f} K\")"
   ]
  },
  {
   "cell_type": "code",
   "execution_count": 28,
   "metadata": {},
   "outputs": [],
   "source": [
    "gas_eq = ct.Solution('grimech30.yaml')\n",
    "gas_eq.TPX = gas_mix.T, gas_mix.P, gas_mix.X"
   ]
  },
  {
   "cell_type": "code",
   "execution_count": 29,
   "metadata": {},
   "outputs": [
    {
     "name": "stdout",
     "output_type": "stream",
     "text": [
      "Adiabatic flame temperature = 328.73 K\n",
      "CO mole fraction = 1.061e-05\n",
      "CH4 mole fraction = 2.380e-24\n",
      "NOx mole fraction = 3.560e-03\n"
     ]
    }
   ],
   "source": [
    "X_CO  = X[gas_eq.species_index('CO')]\n",
    "X_CH4 = X[gas_eq.species_index('CH4')]\n",
    "X_NO  = X[gas_eq.species_index('NO')]\n",
    "X_NO2 = X[gas_eq.species_index('NO2')]\n",
    "X_N2O = X[gas_eq.species_index('N2O')]\n",
    "X_NOx = X_NO + X_NO2 + X_N2O\n",
    "\n",
    "print(f\"Adiabatic flame temperature = {gas_eq.T:.2f} K\")\n",
    "print(f\"CO mole fraction = {X_CO:.3e}\")\n",
    "print(f\"CH4 mole fraction = {X_CH4:.3e}\")\n",
    "print(f\"NOx mole fraction = {X_NOx:.3e}\")"
   ]
  },
  {
   "cell_type": "code",
   "execution_count": 35,
   "metadata": {},
   "outputs": [
    {
     "name": "stdout",
     "output_type": "stream",
     "text": [
      "PSR steady-state:\n",
      "T_psr = 810.25 K\n",
      "P_psr = 35.22 atm\n",
      "CH4 mole frac = 4.871481e-02\n",
      "CO mole frac  = 3.451392e-10\n",
      "NOx mole frac = 6.850069e-15\n"
     ]
    }
   ],
   "source": [
    "# PSR\n",
    "\n",
    "T_in = 850.0\n",
    "\n",
    "# create gas with inlet mixture \n",
    "gas_psr = ct.Solution('grimech30.yaml')\n",
    "gas_psr.TPX = T_in, P, X_in   \n",
    "\n",
    "gas_psr.HP = H_total, P\n",
    "\n",
    "\n",
    "# create PSR\n",
    "psr = ct.IdealGasReactor(gas_psr, energy='on', volume=V_comb)\n",
    "upstream = ct.Reservoir(gas_psr)\n",
    "downstream = ct.Reservoir(gas_psr)\n",
    "\n",
    "mdot_total = mdot_air + mdot_methane\n",
    "mfc = ct.MassFlowController(upstream, psr, mdot=mdot_total)\n",
    "valve = ct.Valve(psr, downstream, K=0.01)\n",
    "\n",
    "net = ct.ReactorNet([psr])\n",
    "net.advance_to_steady_state()\n",
    "\n",
    "thermo = psr.thermo\n",
    "X = psr.thermo.X\n",
    "X[gas_eq.species_index('CO')]\n",
    "print(\"PSR steady-state:\")\n",
    "print(\"T_psr = {:.2f} K\".format(psr.T))\n",
    "print(\"P_psr = {:.2f} atm\".format(psr.thermo.P/ct.one_atm))\n",
    "print(\"CH4 mole frac = {:.6e}\".format(X[thermo.species_index('CH4')]))\n",
    "print(\"CO mole frac  = {:.6e}\".format(X[thermo.species_index('CO')]))\n",
    "NOx_psr = X[thermo.species_index('NO')] + X[thermo.species_index('NO2')] + X[thermo.species_index('N2O')]\n",
    "print(\"NOx mole frac = {:.6e}\".format(NOx_psr))"
   ]
  },
  {
   "cell_type": "code",
   "execution_count": 40,
   "metadata": {},
   "outputs": [
    {
     "name": "stdout",
     "output_type": "stream",
     "text": [
      "tau_crit (T > 1500 K) = 0.33529241492495565\n"
     ]
    },
    {
     "data": {
      "image/png": "[encoded data removed]",
      "text/plain": [
       "<Figure size 600x400 with 1 Axes>"
      ]
     },
     "metadata": {},
     "output_type": "display_data"
    },
    {
     "data": {
      "image/png": "[encoded data removed]",
      "text/plain": [
       "<Figure size 600x400 with 1 Axes>"
      ]
     },
     "metadata": {},
     "output_type": "display_data"
    }
   ],
   "source": [
    "taus = np.logspace(-4, -0.0, 60) \n",
    "Tvals = np.zeros_like(taus)\n",
    "CO_ppm = np.zeros_like(taus)\n",
    "NOx_ppm = np.zeros_like(taus)\n",
    "CH4_ppm = np.zeros_like(taus)\n",
    "\n",
    "gas = ct.Solution('grimech30.yaml')\n",
    "\n",
    "for i, tau in enumerate(taus):\n",
    "    # recreate gas with inlet HP enthalpy\n",
    "    \n",
    "    gas.TPX = T_in, P, X_in\n",
    "    gas.HP = H_total, P\n",
    "\n",
    "    psr = ct.IdealGasReactor(gas, energy='on', volume=V_comb)\n",
    "    upstream = ct.Reservoir(gas)\n",
    "    downstream = ct.Reservoir(gas)\n",
    "    \n",
    "    mdot = psr.mass / tau\n",
    "    mfc = ct.MassFlowController(upstream, psr, mdot=mdot)\n",
    "    valve = ct.Valve(psr, downstream, K=0.01)\n",
    "    net = ct.ReactorNet([psr])\n",
    "    net.advance_to_steady_state()\n",
    "\n",
    "    thermo = psr.thermo\n",
    "    X = psr.thermo.X\n",
    "    \n",
    "    Tvals[i] = psr.T\n",
    "    \n",
    "    CO_ppm[i] = X[thermo.species_index('CO')] * 1e6\n",
    "    NOx_ppm[i] = (X[thermo.species_index('NO')] + X[thermo.species_index('NO2')] + X[thermo.species_index('N2O')]) * 1e6\n",
    "    CH4_ppm[i] = X[thermo.species_index('CO')] * 1e6\n",
    "\n",
    "# find tau_crit where T crosses 1500 K \n",
    "mask = Tvals > 1500.0\n",
    "tau_crit = taus[mask][0] if np.any(mask) else None\n",
    "print(\"tau_crit (T > 1500 K) =\", tau_crit)\n",
    "\n",
    "plt.figure(figsize=(6,4))\n",
    "plt.semilogx(taus, Tvals, '-o')\n",
    "plt.axvline(x=tau_crit, color='k', linestyle='--', label=f'tau_crit={tau_crit:.3e}s' if tau_crit else 'no tau_crit')\n",
    "plt.xlabel('tau (s)')\n",
    "plt.ylabel('T_psr (K)')\n",
    "plt.grid(True)\n",
    "plt.legend()\n",
    "plt.show()\n",
    "\n",
    "plt.figure(figsize=(6,4))\n",
    "plt.semilogx(taus, CO_ppm, label='CO (ppm)')\n",
    "plt.semilogx(taus, NOx_ppm, label='NOx (ppm)')\n",
    "plt.semilogx(taus, CH4_ppm, label='CH4 (ppm)')\n",
    "plt.xlabel('tau (s)')\n",
    "plt.ylabel('Concentration (ppmv)')\n",
    "plt.legend()\n",
    "plt.grid(True)\n",
    "plt.show()"
   ]
  },
  {
   "cell_type": "markdown",
   "metadata": {},
   "source": [
    "Methane fuel enters at **300 K** instead of 850 K -> the mixed inlet stream cools to **≈329 K** → lowers the initial reaction temperature and delays the ignition. \n",
    "\n",
    "**Adiabatic flame temperature** drops slightly from **1902 K → 1869 K**, while the **critical residence time** for ignition increases from **≈0.08 s → 0.34 s** → slower ignition and higher likelihood of incomplete combustion.\n",
    "\n",
    "At the nominal operating residence time (**τ ≈ 0.019 s**), the PSR remains at a low temperature (**810 K**) with a high **CH₄ mole fraction (~4.9×10⁻²)** → mixture fails to ignite. \n",
    "Equilibrium **NOx** decreases slightly (**3.94×10⁻³ → 3.56×10⁻³**) due to the lower flame temperature, while **CO** remains very low.\n",
    "\n",
    "Overall, the colder fuel increases ignition delay and unburned hydrocarbons (UHC), but equilibrium NOx formation is reduced. \n",
    "The fuel mass flow should remain unchanged (to keep power output constant), but **fuel preheating or increased residence time** is important to achieve complete combustion without excessive CO or UHC emissions."
   ]
  },
  {
   "cell_type": "markdown",
   "metadata": {},
   "source": [
    "### Substituting fuel with hydrogen\n",
    "\n",
    "- We will compute CH₄ → H₂ mass flows for 50% and 100% substitution (energy basis), for three GE H-class turbines in combined-cycle.\n",
    "\n",
    "- Then, we compute the electrolyser electricity required to make that H₂ (kWh/kg basis, with a sensible range).\n",
    "\n",
    "- Finally, we will compute numbers on storage (tank volumes at 700 bar and liquid H₂ density) and pipeline considerations.\n"
   ]
  },
  {
   "cell_type": "markdown",
   "metadata": {},
   "source": [
    "Assumptions used in the calculations\n",
    "\n",
    "Combined-cycle net electrical outputs (representative, 1×1 plant):\n",
    "\n",
    "**GE 9HA.02**: 838 MW (1x CC net output), $\\eta = 64.1%$\n",
    "\n",
    "**GE 7HA.03**: 640 MW (1× CC net output), $\\eta = 63.9%$\n",
    "\n",
    "**GE 7HA.02**: 573 MW (1× CC net output), $\\eta = 63.4%$\n",
    "\n",
    "Combined-cycle thermal efficiency ($η_{cc}$) assumed 64% (typical H-class CC reported >64%). \n",
    "GE Vernova\n",
    "\n",
    "Lower heating value (LHV): H₂ = 120 MJ/kg, CH₄ = 50 MJ/kg (user gave CH₄ LHV=50 MJ/kg).\n",
    "\n",
    "Electrolyser electricity usage (system level): 50 kWh/kg H₂ (IRENA / NREL ranges 40–60 kWh/kg; we will USE a small range: 45–60 kWh/kg).\n",
    "\n",
    "---\n",
    "\n",
    "\n",
    "**Lower Heating Value of H₂:**  \n",
    "  $\\text{LHV}_{H2} \\approx 120~\\text{MJ/kg}$ (https://www.engineeringtoolbox.com/fuels-higher-calorific-values-d_169.html)\n",
    "\n",
    "**Combined-Cycle Efficiency (η_cc):**  \n",
    "  $\n",
    "  \\eta_{\\rm CC} = \\frac{P_{\\rm net}}{\\dot{E}_{\\rm fuel}}\n",
    "  $  \n",
    "  For representative GE turbines:\n",
    "\n",
    "  | Turbine | Net output (MW_e) | η reported |\n",
    "  |---------|-----------------|------------|\n",
    "  | 9HA.02  | 838             | 64.1%     |\n",
    "  | 7HA.03  | 640             | 63.9%     |\n",
    "  | 7HA.02  | 573             | 63.4%     |\n",
    "\n",
    "  In calculations, η_cc ≈ 0.64 is a reasonable approximation.\n",
    "\n",
    "- **Hydrogen mass flow calculation:**  \n",
    "  - Compute required fuel energy input:\n",
    "  $$\n",
    "  \\dot{E}_{\\rm fuel} = \\frac{P_{\\rm net}}{\\eta_{\\rm CC}}\n",
    "  $$ \n",
    "  - Compute hydrogen mass flow:\n",
    "  $$\n",
    "  \\dot{m}_{\\rm H_2} = \\frac{\\dot{E}_{\\rm fuel}}{\\text{LHV}_{\\rm H_2}}\n",
    "  $$ "
   ]
  },
  {
   "cell_type": "code",
   "execution_count": 47,
   "metadata": {},
   "outputs": [
    {
     "name": "stdout",
     "output_type": "stream",
     "text": [
      "\n",
      "9HA.02_1x: P_net = 838.0 MW\n",
      "  Fuel chemical power required = 1309.4 MW (thermal input)\n",
      "  mdot H2 (100% H2) = 10.9115 kg/s = 39281.2 kg/h\n",
      "  mdot H2 (50% energy from H2) = 5.4557 kg/s = 19640.6 kg/h\n",
      "  mdot CH4 (remaining 50% energy) = 13.0938 kg/s = 47137.5 kg/h\n",
      "\n",
      "7HA.03_1x: P_net = 640.0 MW\n",
      "  Fuel chemical power required = 1000.0 MW (thermal input)\n",
      "  mdot H2 (100% H2) = 8.3333 kg/s = 30000.0 kg/h\n",
      "  mdot H2 (50% energy from H2) = 4.1667 kg/s = 15000.0 kg/h\n",
      "  mdot CH4 (remaining 50% energy) = 10.0000 kg/s = 36000.0 kg/h\n",
      "\n",
      "7HA.02_1x: P_net = 573.0 MW\n",
      "  Fuel chemical power required = 895.3 MW (thermal input)\n",
      "  mdot H2 (100% H2) = 7.4609 kg/s = 26859.4 kg/h\n",
      "  mdot H2 (50% energy from H2) = 3.7305 kg/s = 13429.7 kg/h\n",
      "  mdot CH4 (remaining 50% energy) = 8.9531 kg/s = 32231.2 kg/h\n"
     ]
    }
   ],
   "source": [
    "# Compute H2 mass flows 50% and 100% substitution by energy\n",
    "\n",
    "turbines = {\n",
    "    '9HA.02_1x': 838.0,   # MW_e \n",
    "    '7HA.03_1x' : 640.0,   # MW_e\n",
    "    '7HA.02_1x' : 573.0    # MW_e\n",
    "}\n",
    "\n",
    "eta_cc = 0.64           # combined-cycle efficiency\n",
    "LHV_H2 = 120e6          # J/kg\n",
    "LHV_CH4 = 50e6          # J/kg\n",
    "\n",
    "results = {}\n",
    "for name, P_net_MW in turbines.items():\n",
    "    P_net_W = P_net_MW * 1e6\n",
    "    # chemical energy input required = electrical power / efficiency\n",
    "    E_fuel_W = P_net_W / eta_cc                # W of chemical energy input\n",
    "    # H2 mass flows\n",
    "    mdot_H2_100 = E_fuel_W / LHV_H2            # kg/s for 100% H2\n",
    "    mdot_H2_50 = 0.5 * E_fuel_W / LHV_H2       # kg/s for 50% H2 (energy fraction)\n",
    "    # CH4 that supplies the rest in 50% case\n",
    "    E_CH4_rem_W = E_fuel_W - 0.5 * E_fuel_W\n",
    "    mdot_CH4_for_half = E_CH4_rem_W / LHV_CH4\n",
    "\n",
    "    results[name] = {\n",
    "        'P_net_MW': P_net_MW,\n",
    "        'E_fuel_MW': E_fuel_W/1e6,\n",
    "        'mdot_H2_100_kg_s': mdot_H2_100,\n",
    "        'mdot_H2_50_kg_s': mdot_H2_50,\n",
    "        'mdot_CH4_when_50pct_H2_kg_s': mdot_CH4_for_half\n",
    "    }\n",
    "\n",
    "for name, r in results.items():\n",
    "    print(f\"\\n{name}: P_net = {r['P_net_MW']} MW\")\n",
    "    print(f\"  Fuel chemical power required = {r['E_fuel_MW']:.1f} MW (thermal input)\")\n",
    "    print(f\"  mdot H2 (100% H2) = {r['mdot_H2_100_kg_s']:.4f} kg/s = {r['mdot_H2_100_kg_s']*3600:.1f} kg/h\")\n",
    "    print(f\"  mdot H2 (50% energy from H2) = {r['mdot_H2_50_kg_s']:.4f} kg/s = {r['mdot_H2_50_kg_s']*3600:.1f} kg/h\")\n",
    "    print(f\"  mdot CH4 (remaining 50% energy) = {r['mdot_CH4_when_50pct_H2_kg_s']:.4f} kg/s = {r['mdot_CH4_when_50pct_H2_kg_s']*3600:.1f} kg/h\")\n"
   ]
  },
  {
   "cell_type": "markdown",
   "metadata": {},
   "source": [
    "**Hydrogen Mass Flow Requirements**\n",
    "\n",
    "From your calculations, for the GE H-class turbines:\n",
    "\n",
    "| Turbine | 100% H₂ (kg/s) | 50% H₂ (kg/s) | CH₄ for 50% H₂ (kg/s) |\n",
    "|---------|----------------|----------------|-----------------------|\n",
    "| 9HA.02  | 10.91          | 5.46           | 13.09                 |\n",
    "| 7HA.03  | 8.33           | 4.17           | 10.00                 |\n",
    "| 7HA.02  | 7.46           | 3.73           | 8.95                  |\n",
    "\n",
    "\n",
    "Even a 50% energy substitution requires multi-kilogram-per-second hydrogen flows, which is substantial for continuous operation.\n"
   ]
  },
  {
   "cell_type": "code",
   "execution_count": 48,
   "metadata": {},
   "outputs": [
    {
     "name": "stdout",
     "output_type": "stream",
     "text": [
      "Electrolyser power required (continuous) to produce the H2 mass flows from Block 1:\n",
      "\n",
      "9HA.02_1x, 100% H2, electrolyser usage 45.0 kWh/kg -> 1767.7 MW_e of electrolyser power\n",
      "9HA.02_1x, 100% H2, electrolyser usage 50.0 kWh/kg -> 1964.1 MW_e of electrolyser power\n",
      "9HA.02_1x, 100% H2, electrolyser usage 60.0 kWh/kg -> 2356.9 MW_e of electrolyser power\n",
      "9HA.02_1x, 50% H2, electrolyser usage 45.0 kWh/kg -> 883.8 MW_e of electrolyser power\n",
      "9HA.02_1x, 50% H2, electrolyser usage 50.0 kWh/kg -> 982.0 MW_e of electrolyser power\n",
      "9HA.02_1x, 50% H2, electrolyser usage 60.0 kWh/kg -> 1178.4 MW_e of electrolyser power\n",
      "\n",
      "7HA.03_1x, 100% H2, electrolyser usage 45.0 kWh/kg -> 1350.0 MW_e of electrolyser power\n",
      "7HA.03_1x, 100% H2, electrolyser usage 50.0 kWh/kg -> 1500.0 MW_e of electrolyser power\n",
      "7HA.03_1x, 100% H2, electrolyser usage 60.0 kWh/kg -> 1800.0 MW_e of electrolyser power\n",
      "7HA.03_1x, 50% H2, electrolyser usage 45.0 kWh/kg -> 675.0 MW_e of electrolyser power\n",
      "7HA.03_1x, 50% H2, electrolyser usage 50.0 kWh/kg -> 750.0 MW_e of electrolyser power\n",
      "7HA.03_1x, 50% H2, electrolyser usage 60.0 kWh/kg -> 900.0 MW_e of electrolyser power\n",
      "\n",
      "7HA.02_1x, 100% H2, electrolyser usage 45.0 kWh/kg -> 1208.7 MW_e of electrolyser power\n",
      "7HA.02_1x, 100% H2, electrolyser usage 50.0 kWh/kg -> 1343.0 MW_e of electrolyser power\n",
      "7HA.02_1x, 100% H2, electrolyser usage 60.0 kWh/kg -> 1611.6 MW_e of electrolyser power\n",
      "7HA.02_1x, 50% H2, electrolyser usage 45.0 kWh/kg -> 604.3 MW_e of electrolyser power\n",
      "7HA.02_1x, 50% H2, electrolyser usage 50.0 kWh/kg -> 671.5 MW_e of electrolyser power\n",
      "7HA.02_1x, 50% H2, electrolyser usage 60.0 kWh/kg -> 805.8 MW_e of electrolyser power\n",
      "\n"
     ]
    }
   ],
   "source": [
    "# electricity required to produce that H₂ by electrolysis\n",
    "\n",
    "# Electrolyser electricity required (kW/MW and power)\n",
    "# Use a range for electricity consumption per kg H2: 45-60 kWh/kg \n",
    "kwh_per_kg_range = [45.0, 50.0, 60.0]  # kWh/kg\n",
    "\n",
    "print(\"Electrolyser power required (continuous) to produce the H2 mass flows from Block 1:\\n\")\n",
    "for name, r in results.items():\n",
    "    mdot100 = r['mdot_H2_100_kg_s']\n",
    "    kg_per_hour_100 = mdot100 * 3600.0\n",
    "    for kwh_per_kg in kwh_per_kg_range:\n",
    "        elec_kW = kg_per_hour_100 * kwh_per_kg / 1.0  # kW (kg/hr * kWh/kg = kW)\n",
    "        print(f\"{name}, 100% H2, electrolyser usage {kwh_per_kg} kWh/kg -> {elec_kW/1e3:.1f} MW_e of electrolyser power\")\n",
    "\n",
    "    mdot50 = r['mdot_H2_50_kg_s']\n",
    "    kg_per_hour_50 = mdot50 * 3600.0\n",
    "    for kwh_per_kg in kwh_per_kg_range:\n",
    "        elec_kW = kg_per_hour_50 * kwh_per_kg\n",
    "        print(f\"{name}, 50% H2, electrolyser usage {kwh_per_kg} kWh/kg -> {elec_kW/1e3:.1f} MW_e of electrolyser power\")\n",
    "    print(\"\")\n"
   ]
  },
  {
   "cell_type": "markdown",
   "metadata": {},
   "source": [
    "**Electrolyser Power Requirements**\n",
    "\n",
    "For 100% and 50% H₂:\n",
    "\n",
    "| Turbine | 100% H₂ (MWₑ) | 50% H₂ (MWₑ) |\n",
    "|---------|----------------|----------------|\n",
    "| 9HA.02  | 1687–2250       | 844–1125       |\n",
    "| 7HA.03  | 1350–1800       | 675–900        |\n",
    "| 7HA.02  | 1209–1612       | 604–806        |\n",
    " \n",
    "- Producing enough H₂ requires much more electrical energy than the turbine output.  \n",
    "- Need for large-scale renewable or grid power."
   ]
  },
  {
   "cell_type": "code",
   "execution_count": 49,
   "metadata": {},
   "outputs": [
    {
     "name": "stdout",
     "output_type": "stream",
     "text": [
      "Approximate storage volume needed for 1 hour of H2 (100% H2 case):\n",
      "9HA.02_1x: 39281.2 kg/hr -> liquid volume ≈ 554.8 m^3; compressed@700bar ≈ 982.0 m^3\n",
      "7HA.03_1x: 30000.0 kg/hr -> liquid volume ≈ 423.7 m^3; compressed@700bar ≈ 750.0 m^3\n",
      "7HA.02_1x: 26859.4 kg/hr -> liquid volume ≈ 379.4 m^3; compressed@700bar ≈ 671.5 m^3\n"
     ]
    }
   ],
   "source": [
    "# storage/transport numbers (compressed gas @700 bar, liquid H₂)\n",
    "\n",
    "# Approximate storage volumes (ballpark) for the H2 mass flows.\n",
    "\n",
    "rho_liq_H2 = 70.8   # kg/m3 (liquid hydrogen density, ~70 kg/m3)\n",
    "# Compressed gas at 700 bar density ~ 39 kg/m3 (depends on temperature); we use ~40 kg/m3 as rough number\n",
    "rho_gas_700bar = 40.0  # kg/m3 \n",
    "\n",
    "print(\"Approximate storage volume needed for 1 hour of H2 (100% H2 case):\")\n",
    "for name, r in results.items():\n",
    "    kg_per_hour = r['mdot_H2_100_kg_s']*3600.0\n",
    "    vol_liq_m3 = kg_per_hour / rho_liq_H2\n",
    "    vol_gas700_m3 = kg_per_hour / rho_gas_700bar\n",
    "    print(f\"{name}: {kg_per_hour:.1f} kg/hr -> liquid volume ≈ {vol_liq_m3:.1f} m^3; compressed@700bar ≈ {vol_gas700_m3:.1f} m^3\")\n"
   ]
  },
  {
   "cell_type": "markdown",
   "metadata": {},
   "source": [
    "**Hydrogen Storage & Transport**\n",
    "\n",
    "For 1-hour operation at 100% H₂:\n",
    "\n",
    "| Turbine | Liquid H₂ (m³) | Compressed 700 bar (m³) |\n",
    "|---------|----------------|-------------------------|\n",
    "| 9HA.02  | 530            | 938                     |\n",
    "| 7HA.03  | 424            | 750                     |\n",
    "| 7HA.02  | 379            | 672                     |\n",
    "\n",
    "- Storage volumes are large, especially for compressed H₂.  \n",
    "- Continuous operation or 24-hour storage would require massive infrastructure."
   ]
  },
  {
   "cell_type": "markdown",
   "metadata": {},
   "source": [
    "**Feasability**\n",
    "\n",
    "This analysis evaluates the implications of substituting **50%–100% of natural gas fuel with hydrogen** in combined-cycle gas turbines (CCGTs) and the feasibility of producing that hydrogen using wind power.\n",
    "\n",
    "---\n",
    "\n",
    "**Hydrogen Production**\n",
    "\n",
    "From the calculations:\n",
    "\n",
    "| Turbine    | Net Power (MW) | H₂ Mass Flow (100%) kg/s | Electrolyser Power (50 kWh/kg) MW_e |\n",
    "|------------|----------------|-------------------------|------------------------------------|\n",
    "| 9HA.02     | 838            | 10.91                   | 1964                               |\n",
    "| 7HA.03     | 640            | 8.33                    | 1500                               |\n",
    "| 7HA.02     | 573            | 7.46                    | 1343                               |\n",
    "\n",
    "- Electrolyser capacity required is enormous:\n",
    "  - 9HA.02 at 100% H₂: ~2 GW continuous electrolyser power.\n",
    "  - 50% substitution still requires ~1 GW electrolyser power.\n",
    "- Significant energy losses occur in converting electricity to hydrogen (electrolyser efficiency ~70%).\n",
    "\n",
    "Producing hydrogen at scale for these turbines is technically feasible but would require large-scale electrolyser capacity.\n",
    "\n",
    "---\n",
    "\n",
    "**Hydrogen Storage**\n",
    "\n",
    "Approximate storage volumes for 1 hour of continuous H₂ supply:\n",
    "\n",
    "| Turbine    | H₂ Flow (kg/h) | Liquid H₂ Volume (m³) | Compressed H₂ 700 bar (m³) |\n",
    "|------------|----------------|----------------------|-----------------------------|\n",
    "| 9HA.02     | 39,281         | 555                  | 982                         |\n",
    "| 7HA.03     | 30,000         | 424                  | 750                         |\n",
    "| 7HA.02     | 26,859         | 379                  | 672                         |\n",
    "\n",
    "\n",
    "- 1-hour storage is feasible in terms of volume.\n",
    "- Continuous operation requires 24× these volumes (~13,000 m³ for 9HA.02).\n",
    "- High-pressure compressed storage is larger and more challenging than liquid H₂.\n",
    "\n",
    "Storage is technically feasible but requires significant infrastructure investment for continuous operation.\n",
    "\n",
    "---\n",
    "\n",
    "**Hydrogen Transport**\n",
    "\n",
    "- Transporting 10–40 t/h of H₂ requires high-pressure pipelines or liquid tankers.\n",
    "\n",
    "Transport is feasible locally, but scaling across multiple plants or regions is challenging and expensive.\n",
    "\n",
    "---\n",
    "\n",
    "**Feasibility with Wind Power**\n",
    "\n",
    "- 1 GW electrolyser requires ~1 GW average electrical input.\n",
    "- Modern wind turbines (~10 MW, 35% capacity factor → 3.5 MW average) would require:\n",
    "  - ~285 turbines for 100% H₂ for 9HA.02\n",
    "  - ~140 turbines for 50% H₂ substitution\n",
    "\n",
    "Technically feasible, but requires **massive renewable capacity** and careful integration with electrolyser and turbine operation.\n",
    "\n",
    "---\n",
    "\n",
    "- 50% H₂ substitution: minimal turbine modifications needed, manageable.\n",
    "- 100% H₂: requires turbine adaptation due to different flame characteristics, lower density, and higher NOx risk.\n",
    "- Efficiency impacts: hydrogen demands higher mass flow due to lower volumetric energy content."
   ]
  },
  {
   "cell_type": "markdown",
   "metadata": {},
   "source": [
    "### Is Hydrogen easier to ignite than Methane"
   ]
  },
  {
   "cell_type": "markdown",
   "metadata": {},
   "source": [
    "According to Snehasish Panigrahy et al. in “When hydrogen is slower than methane to ignite” (Proceedings of the Combustion Institute, Volume 39, Issue 1, 2023), **hydrogen ignites faster than all other fuels**, including methane, at **temperatures above 950 K**. However, at **lower temperatures**, specifically below 890–925 K, depending on the operating pressure and equivalence ratio, **hydrogen mixtures ignite more slowly than methane**. For example, at 40 bar and φ = 1.0, the ignition delay time (IDT) for hydrogen at 890 K is 2.5 times longer than for methane, and at φ = 2.0, the same occurs at 875 K.\n",
    "\n",
    "At low temperatures, alkyl radicals (Ṙ = ĊH₃ and Ḣ) react with O₂ to form RȮ₂ radicals, which then react with HȮ₂ radicals to produce ROOH species (such as H₂O₂ and CH₃OOH) and O₂. For hydrogen, HȮ₂ self-recombination propagates the reaction chain in a way that inhibits overall reactivity. In contrast, for methane, the interaction between RȮ₂ (CH₃OȮ) and HȮ₂ leads to chain branching, which enhances reactivity. Additionally, CH₃OOH decomposes more readily to form CH₃Ȯ and ȮH radicals than H₂O₂ does to produce two ȮH radicals. As a result, at low temperatures, mixtures with higher hydrogen content ignite more slowly than mixtures with higher methane content."
   ]
  }
 ],
 "metadata": {
  "anaconda-cloud": {},
  "hide_input": false,
  "kernelspec": {
   "display_name": "Python 3 (ipykernel)",
   "language": "python",
   "name": "python3"
  },
  "language_info": {
   "codemirror_mode": {
    "name": "ipython",
    "version": 3
   },
   "file_extension": ".py",
   "mimetype": "text/x-python",
   "name": "python",
   "nbconvert_exporter": "python",
   "pygments_lexer": "ipython3",
   "version": "3.11.13"
  },
  "latex_envs": {
   "LaTeX_envs_menu_present": true,
   "autoclose": false,
   "autocomplete": true,
   "bibliofile": "biblio.bib",
   "cite_by": "apalike",
   "current_citInitial": 1,
   "eqLabelWithNumbers": true,
   "eqNumInitial": 1,
   "hotkeys": {
    "equation": "Ctrl-E",
    "itemize": "Ctrl-I"
   },
   "labels_anchors": false,
   "latex_user_defs": false,
   "report_style_numbering": false,
   "user_envs_cfg": false
  },
  "toc": {
   "nav_menu": {},
   "number_sections": true,
   "sideBar": true,
   "skip_h1_title": false,
   "toc_cell": false,
   "toc_position": {},
   "toc_section_display": "block",
   "toc_window_display": false
  }
 },
 "nbformat": 4,
 "nbformat_minor": 4
}
